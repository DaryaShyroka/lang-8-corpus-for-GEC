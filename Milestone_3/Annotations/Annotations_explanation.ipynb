{
 "cells": [
  {
   "cell_type": "markdown",
   "metadata": {},
   "source": [
    "# Link to intermediary files produced during the annotation process\n",
    "\n",
    "- Our scaraped corpus contains sentences from lang-8 site. The mentor mentioned that a similar study has been done in 2019 and he would like to know the percentage of overlapped sentences between 2019 study and our corpus. Therefore, our team decided to annotate sentences which do not belong to the previous study.Hence, we generated 'unannotated_sents.csv'.\n",
    "https://raw.github.ubc.ca/MDS-CL-2020-21/COLX523_Project_Group6/master/src/data/unannotated_sents.csv?token=AAAAQTJMCOLYFZWXCNZ6VTLAKVQC2\n",
    "\n",
    "\n",
    "- From 'unannotated_sents.csv', we have selected 550 sentence pairs to annoate using Mechanical Turk. The file, AMT_Milestone3.csv contains 550 original and corrected sentences uploaded to Mechanical Turk. \n",
    "https://raw.github.ubc.ca/MDS-CL-2020-21/COLX523_Project_Group6/master/src/data/AMT_Milestone3.csv?token=AAAAQTLC7IPF3NFAGH4S4NLAKVQE6\n",
    "\n",
    "\n",
    "- AMT_Milestone3-metadata.csv is a csv file which contains row and doc_id information of the 550 sentences. This file was generated for debugging purpose and was not used in the annotation process. \n",
    "https://raw.github.ubc.ca/MDS-CL-2020-21/COLX523_Project_Group6/master/src/data/AMT_Milestone3-metadata.csv?token=AAAAQTITQRQT5SQGQOILZDDAKVQGG\n",
    "\n",
    "\n",
    "- Batch_4362628_batch_results.csv is the csv file downloaded from Mechanical Turk when the annotation work was completed.\n",
    "https://raw.github.ubc.ca/MDS-CL-2020-21/COLX523_Project_Group6/master/src/data/Batch_4362628_batch_results.csv?token=AAAAQTLZGRINUCAEWO7GWI3AKVQI4\n",
    "\n",
    "\n",
    "- AMT_Milestone3_intermediate.xlsx is an excel file in which the annotator agreements are summarized using excel utilities.\n",
    "https://github.ubc.ca/MDS-CL-2020-21/COLX523_Project_Group6/blob/master/src/data/AMT_Milestone3_intermediate.xlsx\n",
    "\n",
    "\n",
    "- AMT_Milestone3_results.csv contains a summary of AMT_Milestone3_intermediate.xlsx in csv format.\n",
    "https://raw.github.ubc.ca/MDS-CL-2020-21/COLX523_Project_Group6/master/src/data/AMT_Milestone3_results.csv?token=AAAAQTJ6LWZPEWYZIIZIWSDAKVQKQ\n",
    "\n",
    "\n",
    "- annotated_sents.csv contains all the sentences in unannotated_sents.csv with annotated information. It contains two columns (agree, total_agree). The column, 'agree' contains 'yes' or 'no': 'yes' if the annotators agree with the corrected sentence; 'no' if the annotators disagree with the corrected sentence. The column 'total_agree' contains the number of agreements from the annotators. Since each task is assigned to three annotators, the maximum total agreement is 3 and the minimum total agreement is 0. Note that 'agree' is set to 1 if and only if the total agreement is equal to or greater than 2. \n",
    "https://raw.github.ubc.ca/MDS-CL-2020-21/COLX523_Project_Group6/master/src/data/annotated_sents.csv?token=AAAAQTL3MZM2EJTDTS2Y2GTAKVQM6\n",
    "\n",
    "- **final corpus??? (Ask Jeremy)**\n"
   ]
  },
  {
   "cell_type": "markdown",
   "metadata": {},
   "source": [
    "# Any code used to prepare the data for annotation or to convert the raw annotation into the final annotation\n",
    "\n",
    "- Please see src/AMT_filewrite_Milestone3.ipynb"
   ]
  },
  {
   "cell_type": "markdown",
   "metadata": {},
   "source": [
    "# Discussion on Annotation Process\n",
    "\n",
    "- The annotation process itself went smoothly. We selected pairs where corrected sentences are long. Please note that we did not choose the longest 550 sentences because they were a little too long. But we chose the next 550 sentences. We were able to get annotations within one day. "
   ]
  },
  {
   "cell_type": "code",
   "execution_count": null,
   "metadata": {},
   "outputs": [],
   "source": []
  }
 ],
 "metadata": {
  "kernelspec": {
   "display_name": "Python 3",
   "language": "python",
   "name": "python3"
  },
  "language_info": {
   "codemirror_mode": {
    "name": "ipython",
    "version": 3
   },
   "file_extension": ".py",
   "mimetype": "text/x-python",
   "name": "python",
   "nbconvert_exporter": "python",
   "pygments_lexer": "ipython3",
   "version": "3.8.3"
  }
 },
 "nbformat": 4,
 "nbformat_minor": 4
}
