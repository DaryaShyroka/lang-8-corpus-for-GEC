{
 "cells": [
  {
   "cell_type": "code",
   "execution_count": 20,
   "metadata": {},
   "outputs": [],
   "source": [
    "import csv\n",
    "\n",
    "input_file = 'data/paral_sents.txt'\n",
    "f = open(input_file)\n",
    "lines = f.readlines()\n",
    "f.close()\n",
    "\n",
    "count = 0 \n",
    "output_file = 'data/AMT.csv'\n",
    "fout = open(output_file, 'w', encoding = 'utf-8')\n",
    "writer = csv.writer(fout, dialect = 'unix')\n",
    "writer.writerow(['orig', 'corr'])\n",
    "for sent in lines:\n",
    "    if sent.startswith('org:'):\n",
    "        orig_sent = sent[4:]\n",
    "    elif sent.startswith('cor:'):\n",
    "        first_sent = sent[7:]\n",
    "        if first_sent.find(\".'\") > -1:\n",
    "            first_sent = first_sent[:first_sent.find(\".'\")+1]\n",
    "            writer.writerow([orig_sent, first_sent])\n",
    "            count += 1\n",
    "    if count == 11:\n",
    "        break\n",
    "fout.close()"
   ]
  },
  {
   "cell_type": "code",
   "execution_count": null,
   "metadata": {},
   "outputs": [],
   "source": []
  }
 ],
 "metadata": {
  "kernelspec": {
   "display_name": "Python 3",
   "language": "python",
   "name": "python3"
  },
  "language_info": {
   "codemirror_mode": {
    "name": "ipython",
    "version": 3
   },
   "file_extension": ".py",
   "mimetype": "text/x-python",
   "name": "python",
   "nbconvert_exporter": "python",
   "pygments_lexer": "ipython3",
   "version": "3.8.3"
  }
 },
 "nbformat": 4,
 "nbformat_minor": 4
}
