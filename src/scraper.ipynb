{
 "cells": [
  {
   "cell_type": "code",
   "execution_count": 1,
   "metadata": {},
   "outputs": [],
   "source": [
    "import time\n",
    "import json\n",
    "import os\n",
    "from bs4 import BeautifulSoup\n",
    "import bs4\n",
    "from urllib.request import urlopen\n",
    "from collections import defaultdict\n",
    "import re\n",
    "from helper import *"
   ]
  },
  {
   "cell_type": "code",
   "execution_count": 2,
   "metadata": {},
   "outputs": [],
   "source": [
    "def download_parallel_sents(user_id, journal_id): \n",
    "    \"\"\"Get the original sentences with their corrections, it might be 1-N mapping.\"\"\"\n",
    "    print(f\"{'*'*20} {journal_id} {'*'*20}\")\n",
    "    url = f\"https://lang-8.com/{user_id}/journals/{journal_id}\"\n",
    "    soup = BeautifulSoup(urlopen(url), \"html.parser\")\n",
    "    corrections = get_corrections(soup)\n",
    "    return get_pair_sents(corrections)"
   ]
  },
  {
   "cell_type": "code",
   "execution_count": 3,
   "metadata": {},
   "outputs": [],
   "source": [
    "def scrape_metadata(output_file, todo_users, done_users_list, total_count=100):\n",
    "    \"\"\"Scrape users from todo_users list and write data to output_file.\"\"\"\n",
    "    user_count = 0\n",
    "    while todo_users:\n",
    "        current_user = todo_users.pop()\n",
    "        success = False\n",
    "        count = 0\n",
    "        result = {}\n",
    "        print(current_user)\n",
    "        while not success and count < 10:\n",
    "            try:\n",
    "                friends_page_soup = BeautifulSoup(urlopen(f'https://lang-8.com/{current_user}/friends'), 'html.parser')\n",
    "                documents_page_soup = BeautifulSoup(urlopen(f'https://lang-8.com/{current_user}/journals'), 'html.parser')\n",
    "                profile = get_profile(friends_page_soup)\n",
    "                friends = get_friends(friends_page_soup)\n",
    "                print(\"friends: \" + str(friends))\n",
    "                documents = get_documents(documents_page_soup)\n",
    "                fout = open(output_file, \"a\", encoding=\"utf-8\")\n",
    "                fout.write(\"<user_id> \" + current_user + \"\\n\")\n",
    "                for k, v in profile.items():\n",
    "                    fout.write(f\"{k}: {v}\\n\")\n",
    "                fout.write(\"friends: \" + str(friends) + \"\\n\")\n",
    "                fout.write(\"documents: \" + str(documents) + \"\\n\")\n",
    "                fout.close()\n",
    "                user_count += 1\n",
    "                success = True\n",
    "            except:\n",
    "                print(count, \" fail!\")\n",
    "                count += 1\n",
    "                time.sleep(1)\n",
    "\n",
    "        if count == 10:\n",
    "            continue\n",
    "            \n",
    "        if user_count == total_count:\n",
    "            break\n",
    "\n",
    "        for friend in friends:\n",
    "            if friend not in done_users_list:\n",
    "                todo_users.add(friend)\n",
    "        \n",
    "        fout = open(todo_users_file,\"w\")\n",
    "        json.dump(list(todo_users),fout)\n",
    "        fout.close()\n",
    "        \n",
    "        done_users_list.add(current_user)\n",
    "        time.sleep(1)"
   ]
  },
  {
   "cell_type": "code",
   "execution_count": 11,
   "metadata": {},
   "outputs": [],
   "source": [
    "def read_user_doc_id_pairs(user_profile, total_count=10):\n",
    "    \"\"\"Read the user_id and doc_ids pairs from user_profile. Specify total_count to limit the counts.\"\"\"\n",
    "    count = 0\n",
    "    user_id, document_ids = None, None\n",
    "    with open(user_profile) as f:\n",
    "        for line in f:\n",
    "            line = line.strip()\n",
    "            match_user = re.search(r\"<user_id> (.*)\", line)\n",
    "            match_docs = re.search(r\"documents: (\\[.*\\])\", line)\n",
    "            if match_user:\n",
    "                user_id = match_user.group(1)\n",
    "            if match_docs:\n",
    "                document_ids = match_docs.group(1).strip(\"[]\").split(\", \")\n",
    "            if user_id and document_ids:\n",
    "                count += 1\n",
    "                yield user_id, document_ids\n",
    "                user_id, document_ids = None, None\n",
    "                \n",
    "            if count == total_count:\n",
    "                break"
   ]
  },
  {
   "cell_type": "code",
   "execution_count": 12,
   "metadata": {},
   "outputs": [],
   "source": [
    "def scrape_parralel_sents(user_profile, pral_corpus, total_count=100):\n",
    "    \"\"\"Scrape parallel sentences from user_profile. Specify total_count to limit counts.\"\"\"\n",
    "    doc_count = 0\n",
    "    for user_id, doc_ids in read_user_doc_id_pairs(user_profile, total_count):\n",
    "        for journal_id in doc_ids:\n",
    "            fail_count = 0\n",
    "            success = False\n",
    "            while not success and fail_count < 10:\n",
    "                try:\n",
    "                    journal_id = journal_id.strip(\"'\")\n",
    "                    sent_pairs = download_parallel_sents(user_id=user_id, journal_id=journal_id)\n",
    "                    print(user_id, journal_id)\n",
    "                    print(sent_pairs)\n",
    "                    with open(pral_corpus, 'a') as fout:\n",
    "                        for k, v in sent_pairs.items():\n",
    "                            fout.write(f\"<user_id> {user_id} , <doc_id> {journal_id}\\n\")\n",
    "                            fout.write(f\"org: {k}\\n\")\n",
    "                            fout.write(f\"cor: {v}\\n\")\n",
    "                            fout.write(\"\\n\")\n",
    "                    doc_count += 1\n",
    "                    success = True\n",
    "                except:\n",
    "                    print(fail_count, \"fail\")\n",
    "                    fail_count += 1\n",
    "                    time.sleep(1)\n",
    "\n",
    "                    if fail_count == 10:\n",
    "                        continue\n",
    "                        \n",
    "            if doc_count == total_count:\n",
    "                break"
   ]
  },
  {
   "cell_type": "code",
   "execution_count": 24,
   "metadata": {},
   "outputs": [],
   "source": [
    "### Run this section to check POC, scrape one user profile ###\n",
    "\n",
    "test_user_id = \"191274\"\n",
    "test_doc_id = \"271352583976235145865979226599667907075\"\n",
    "user_link = \"https://lang-8.com/191274/friends\"\n",
    "journal_link = \"https://lang-8.com/191274/journals/271352583976235145865979226599667907075\""
   ]
  },
  {
   "cell_type": "code",
   "execution_count": null,
   "metadata": {},
   "outputs": [],
   "source": [
    "### Run this section to check POC, scrape one user profile ###\n",
    "\n",
    "scrape_metadata(\"./data/test_user_meta.txt\", set([test_user_id]), done_users_list=set(), total_count=1)"
   ]
  },
  {
   "cell_type": "code",
   "execution_count": 20,
   "metadata": {},
   "outputs": [
    {
     "name": "stdout",
     "output_type": "stream",
     "text": [
      "******************** 271352583976235145865979226599667907075 ********************\n",
      "191274 271352583976235145865979226599667907075\n",
      "defaultdict(<class 'list'>, {\"I don't like to be asked a question what sort of clothes wearing.\": [\"I don't like to be asked  what sort of clothes I'm wearing.\"], 'If I had seen people wearing T-shirt dress, they must be so cute and fashonable people.': ['If I had seen people wearing T-shirt dresses, I would think they must be so cute and fashionable people.'], 'I can image that clothes like a pajama for me.': ['I can image that kind of clothing would be like  pajamas for me.'], 'Those are casual and suit in resort places.': ['Those are casual and suit places like resorts.']})\n"
     ]
    }
   ],
   "source": [
    "### Run this section to check POC, scrape one document with parallel sents ###\n",
    "\n",
    "scrape_parralel_sents(\"./data/test_user_meta.txt\", \"./data/test_paral_sents.txt\", total_count=1)"
   ]
  },
  {
   "cell_type": "code",
   "execution_count": 21,
   "metadata": {},
   "outputs": [],
   "source": [
    "### Run this section to scrape corpus\n",
    "\n",
    "user_profile = \"./data/lang-8-users.txt\"\n",
    "todo_users_file = \"./data/todo_users.txt\"\n",
    "\n",
    "todo_users = set([\"213725\",\"673707\"])\n",
    "done_users_list = set()\n",
    "\n",
    "if os.path.exists(user_profile):\n",
    "    f = open(user_profile, encoding='utf-8')\n",
    "    for line in f:\n",
    "        matched = re.search(r\"<user_id> (.*)\", line.strip())\n",
    "        if matched:\n",
    "            done_users_list.add(matched.group(1))\n",
    "            \n",
    "if os.path.exists(todo_users_file):\n",
    "    f = open(todo_users_file,encoding=\"utf-8\")\n",
    "    todo_users = set(json.load(f))\n",
    "    f.close()"
   ]
  },
  {
   "cell_type": "code",
   "execution_count": 22,
   "metadata": {},
   "outputs": [
    {
     "name": "stdout",
     "output_type": "stream",
     "text": [
      "213725\n",
      "friends: ['253534', '125710']\n",
      "253534\n",
      "friends: ['213725', '128630']\n",
      "673707\n",
      "friends: ['125710']\n",
      "125710\n",
      "friends: ['1630244', '256735', '151424', '280068', '1390758', '1599821', '1578399', '1555051', '358816', '129055', '404653', '5417', '1751722', 'tomomonkey']\n",
      "1751722\n",
      "0  fail!\n"
     ]
    },
    {
     "ename": "KeyboardInterrupt",
     "evalue": "",
     "output_type": "error",
     "traceback": [
      "\u001b[0;31m---------------------------------------------------------------------------\u001b[0m",
      "\u001b[0;31mKeyboardInterrupt\u001b[0m                         Traceback (most recent call last)",
      "\u001b[0;32m<ipython-input-3-9b678f6e91e2>\u001b[0m in \u001b[0;36mscrape_metadata\u001b[0;34m(output_file, todo_users, done_users_list, total_count)\u001b[0m\n\u001b[1;32m     11\u001b[0m             \u001b[0;32mtry\u001b[0m\u001b[0;34m:\u001b[0m\u001b[0;34m\u001b[0m\u001b[0;34m\u001b[0m\u001b[0m\n\u001b[0;32m---> 12\u001b[0;31m                 \u001b[0mfriends_page_soup\u001b[0m \u001b[0;34m=\u001b[0m \u001b[0mBeautifulSoup\u001b[0m\u001b[0;34m(\u001b[0m\u001b[0murlopen\u001b[0m\u001b[0;34m(\u001b[0m\u001b[0;34mf'https://lang-8.com/{current_user}/friends'\u001b[0m\u001b[0;34m)\u001b[0m\u001b[0;34m,\u001b[0m \u001b[0;34m'html.parser'\u001b[0m\u001b[0;34m)\u001b[0m\u001b[0;34m\u001b[0m\u001b[0;34m\u001b[0m\u001b[0m\n\u001b[0m\u001b[1;32m     13\u001b[0m                 \u001b[0mdocuments_page_soup\u001b[0m \u001b[0;34m=\u001b[0m \u001b[0mBeautifulSoup\u001b[0m\u001b[0;34m(\u001b[0m\u001b[0murlopen\u001b[0m\u001b[0;34m(\u001b[0m\u001b[0;34mf'https://lang-8.com/{current_user}/journals'\u001b[0m\u001b[0;34m)\u001b[0m\u001b[0;34m,\u001b[0m \u001b[0;34m'html.parser'\u001b[0m\u001b[0;34m)\u001b[0m\u001b[0;34m\u001b[0m\u001b[0;34m\u001b[0m\u001b[0m\n",
      "\u001b[0;32m~/opt/miniconda3/lib/python3.7/urllib/request.py\u001b[0m in \u001b[0;36murlopen\u001b[0;34m(url, data, timeout, cafile, capath, cadefault, context)\u001b[0m\n\u001b[1;32m    221\u001b[0m         \u001b[0mopener\u001b[0m \u001b[0;34m=\u001b[0m \u001b[0m_opener\u001b[0m\u001b[0;34m\u001b[0m\u001b[0;34m\u001b[0m\u001b[0m\n\u001b[0;32m--> 222\u001b[0;31m     \u001b[0;32mreturn\u001b[0m \u001b[0mopener\u001b[0m\u001b[0;34m.\u001b[0m\u001b[0mopen\u001b[0m\u001b[0;34m(\u001b[0m\u001b[0murl\u001b[0m\u001b[0;34m,\u001b[0m \u001b[0mdata\u001b[0m\u001b[0;34m,\u001b[0m \u001b[0mtimeout\u001b[0m\u001b[0;34m)\u001b[0m\u001b[0;34m\u001b[0m\u001b[0;34m\u001b[0m\u001b[0m\n\u001b[0m\u001b[1;32m    223\u001b[0m \u001b[0;34m\u001b[0m\u001b[0m\n",
      "\u001b[0;32m~/opt/miniconda3/lib/python3.7/urllib/request.py\u001b[0m in \u001b[0;36mopen\u001b[0;34m(self, fullurl, data, timeout)\u001b[0m\n\u001b[1;32m    524\u001b[0m \u001b[0;34m\u001b[0m\u001b[0m\n\u001b[0;32m--> 525\u001b[0;31m         \u001b[0mresponse\u001b[0m \u001b[0;34m=\u001b[0m \u001b[0mself\u001b[0m\u001b[0;34m.\u001b[0m\u001b[0m_open\u001b[0m\u001b[0;34m(\u001b[0m\u001b[0mreq\u001b[0m\u001b[0;34m,\u001b[0m \u001b[0mdata\u001b[0m\u001b[0;34m)\u001b[0m\u001b[0;34m\u001b[0m\u001b[0;34m\u001b[0m\u001b[0m\n\u001b[0m\u001b[1;32m    526\u001b[0m \u001b[0;34m\u001b[0m\u001b[0m\n",
      "\u001b[0;32m~/opt/miniconda3/lib/python3.7/urllib/request.py\u001b[0m in \u001b[0;36m_open\u001b[0;34m(self, req, data)\u001b[0m\n\u001b[1;32m    542\u001b[0m         result = self._call_chain(self.handle_open, protocol, protocol +\n\u001b[0;32m--> 543\u001b[0;31m                                   '_open', req)\n\u001b[0m\u001b[1;32m    544\u001b[0m         \u001b[0;32mif\u001b[0m \u001b[0mresult\u001b[0m\u001b[0;34m:\u001b[0m\u001b[0;34m\u001b[0m\u001b[0;34m\u001b[0m\u001b[0m\n",
      "\u001b[0;32m~/opt/miniconda3/lib/python3.7/urllib/request.py\u001b[0m in \u001b[0;36m_call_chain\u001b[0;34m(self, chain, kind, meth_name, *args)\u001b[0m\n\u001b[1;32m    502\u001b[0m             \u001b[0mfunc\u001b[0m \u001b[0;34m=\u001b[0m \u001b[0mgetattr\u001b[0m\u001b[0;34m(\u001b[0m\u001b[0mhandler\u001b[0m\u001b[0;34m,\u001b[0m \u001b[0mmeth_name\u001b[0m\u001b[0;34m)\u001b[0m\u001b[0;34m\u001b[0m\u001b[0;34m\u001b[0m\u001b[0m\n\u001b[0;32m--> 503\u001b[0;31m             \u001b[0mresult\u001b[0m \u001b[0;34m=\u001b[0m \u001b[0mfunc\u001b[0m\u001b[0;34m(\u001b[0m\u001b[0;34m*\u001b[0m\u001b[0margs\u001b[0m\u001b[0;34m)\u001b[0m\u001b[0;34m\u001b[0m\u001b[0;34m\u001b[0m\u001b[0m\n\u001b[0m\u001b[1;32m    504\u001b[0m             \u001b[0;32mif\u001b[0m \u001b[0mresult\u001b[0m \u001b[0;32mis\u001b[0m \u001b[0;32mnot\u001b[0m \u001b[0;32mNone\u001b[0m\u001b[0;34m:\u001b[0m\u001b[0;34m\u001b[0m\u001b[0;34m\u001b[0m\u001b[0m\n",
      "\u001b[0;32m~/opt/miniconda3/lib/python3.7/urllib/request.py\u001b[0m in \u001b[0;36mhttps_open\u001b[0;34m(self, req)\u001b[0m\n\u001b[1;32m   1392\u001b[0m             return self.do_open(http.client.HTTPSConnection, req,\n\u001b[0;32m-> 1393\u001b[0;31m                 context=self._context, check_hostname=self._check_hostname)\n\u001b[0m\u001b[1;32m   1394\u001b[0m \u001b[0;34m\u001b[0m\u001b[0m\n",
      "\u001b[0;32m~/opt/miniconda3/lib/python3.7/urllib/request.py\u001b[0m in \u001b[0;36mdo_open\u001b[0;34m(self, http_class, req, **http_conn_args)\u001b[0m\n\u001b[1;32m   1352\u001b[0m                 \u001b[0;32mraise\u001b[0m \u001b[0mURLError\u001b[0m\u001b[0;34m(\u001b[0m\u001b[0merr\u001b[0m\u001b[0;34m)\u001b[0m\u001b[0;34m\u001b[0m\u001b[0;34m\u001b[0m\u001b[0m\n\u001b[0;32m-> 1353\u001b[0;31m             \u001b[0mr\u001b[0m \u001b[0;34m=\u001b[0m \u001b[0mh\u001b[0m\u001b[0;34m.\u001b[0m\u001b[0mgetresponse\u001b[0m\u001b[0;34m(\u001b[0m\u001b[0;34m)\u001b[0m\u001b[0;34m\u001b[0m\u001b[0;34m\u001b[0m\u001b[0m\n\u001b[0m\u001b[1;32m   1354\u001b[0m         \u001b[0;32mexcept\u001b[0m\u001b[0;34m:\u001b[0m\u001b[0;34m\u001b[0m\u001b[0;34m\u001b[0m\u001b[0m\n",
      "\u001b[0;32m~/opt/miniconda3/lib/python3.7/http/client.py\u001b[0m in \u001b[0;36mgetresponse\u001b[0;34m(self)\u001b[0m\n\u001b[1;32m   1368\u001b[0m             \u001b[0;32mtry\u001b[0m\u001b[0;34m:\u001b[0m\u001b[0;34m\u001b[0m\u001b[0;34m\u001b[0m\u001b[0m\n\u001b[0;32m-> 1369\u001b[0;31m                 \u001b[0mresponse\u001b[0m\u001b[0;34m.\u001b[0m\u001b[0mbegin\u001b[0m\u001b[0;34m(\u001b[0m\u001b[0;34m)\u001b[0m\u001b[0;34m\u001b[0m\u001b[0;34m\u001b[0m\u001b[0m\n\u001b[0m\u001b[1;32m   1370\u001b[0m             \u001b[0;32mexcept\u001b[0m \u001b[0mConnectionError\u001b[0m\u001b[0;34m:\u001b[0m\u001b[0;34m\u001b[0m\u001b[0;34m\u001b[0m\u001b[0m\n",
      "\u001b[0;32m~/opt/miniconda3/lib/python3.7/http/client.py\u001b[0m in \u001b[0;36mbegin\u001b[0;34m(self)\u001b[0m\n\u001b[1;32m    309\u001b[0m         \u001b[0;32mwhile\u001b[0m \u001b[0;32mTrue\u001b[0m\u001b[0;34m:\u001b[0m\u001b[0;34m\u001b[0m\u001b[0;34m\u001b[0m\u001b[0m\n\u001b[0;32m--> 310\u001b[0;31m             \u001b[0mversion\u001b[0m\u001b[0;34m,\u001b[0m \u001b[0mstatus\u001b[0m\u001b[0;34m,\u001b[0m \u001b[0mreason\u001b[0m \u001b[0;34m=\u001b[0m \u001b[0mself\u001b[0m\u001b[0;34m.\u001b[0m\u001b[0m_read_status\u001b[0m\u001b[0;34m(\u001b[0m\u001b[0;34m)\u001b[0m\u001b[0;34m\u001b[0m\u001b[0;34m\u001b[0m\u001b[0m\n\u001b[0m\u001b[1;32m    311\u001b[0m             \u001b[0;32mif\u001b[0m \u001b[0mstatus\u001b[0m \u001b[0;34m!=\u001b[0m \u001b[0mCONTINUE\u001b[0m\u001b[0;34m:\u001b[0m\u001b[0;34m\u001b[0m\u001b[0;34m\u001b[0m\u001b[0m\n",
      "\u001b[0;32m~/opt/miniconda3/lib/python3.7/http/client.py\u001b[0m in \u001b[0;36m_read_status\u001b[0;34m(self)\u001b[0m\n\u001b[1;32m    270\u001b[0m     \u001b[0;32mdef\u001b[0m \u001b[0m_read_status\u001b[0m\u001b[0;34m(\u001b[0m\u001b[0mself\u001b[0m\u001b[0;34m)\u001b[0m\u001b[0;34m:\u001b[0m\u001b[0;34m\u001b[0m\u001b[0;34m\u001b[0m\u001b[0m\n\u001b[0;32m--> 271\u001b[0;31m         \u001b[0mline\u001b[0m \u001b[0;34m=\u001b[0m \u001b[0mstr\u001b[0m\u001b[0;34m(\u001b[0m\u001b[0mself\u001b[0m\u001b[0;34m.\u001b[0m\u001b[0mfp\u001b[0m\u001b[0;34m.\u001b[0m\u001b[0mreadline\u001b[0m\u001b[0;34m(\u001b[0m\u001b[0m_MAXLINE\u001b[0m \u001b[0;34m+\u001b[0m \u001b[0;36m1\u001b[0m\u001b[0;34m)\u001b[0m\u001b[0;34m,\u001b[0m \u001b[0;34m\"iso-8859-1\"\u001b[0m\u001b[0;34m)\u001b[0m\u001b[0;34m\u001b[0m\u001b[0;34m\u001b[0m\u001b[0m\n\u001b[0m\u001b[1;32m    272\u001b[0m         \u001b[0;32mif\u001b[0m \u001b[0mlen\u001b[0m\u001b[0;34m(\u001b[0m\u001b[0mline\u001b[0m\u001b[0;34m)\u001b[0m \u001b[0;34m>\u001b[0m \u001b[0m_MAXLINE\u001b[0m\u001b[0;34m:\u001b[0m\u001b[0;34m\u001b[0m\u001b[0;34m\u001b[0m\u001b[0m\n",
      "\u001b[0;32m~/opt/miniconda3/lib/python3.7/socket.py\u001b[0m in \u001b[0;36mreadinto\u001b[0;34m(self, b)\u001b[0m\n\u001b[1;32m    588\u001b[0m             \u001b[0;32mtry\u001b[0m\u001b[0;34m:\u001b[0m\u001b[0;34m\u001b[0m\u001b[0;34m\u001b[0m\u001b[0m\n\u001b[0;32m--> 589\u001b[0;31m                 \u001b[0;32mreturn\u001b[0m \u001b[0mself\u001b[0m\u001b[0;34m.\u001b[0m\u001b[0m_sock\u001b[0m\u001b[0;34m.\u001b[0m\u001b[0mrecv_into\u001b[0m\u001b[0;34m(\u001b[0m\u001b[0mb\u001b[0m\u001b[0;34m)\u001b[0m\u001b[0;34m\u001b[0m\u001b[0;34m\u001b[0m\u001b[0m\n\u001b[0m\u001b[1;32m    590\u001b[0m             \u001b[0;32mexcept\u001b[0m \u001b[0mtimeout\u001b[0m\u001b[0;34m:\u001b[0m\u001b[0;34m\u001b[0m\u001b[0;34m\u001b[0m\u001b[0m\n",
      "\u001b[0;32m~/opt/miniconda3/lib/python3.7/ssl.py\u001b[0m in \u001b[0;36mrecv_into\u001b[0;34m(self, buffer, nbytes, flags)\u001b[0m\n\u001b[1;32m   1070\u001b[0m                   self.__class__)\n\u001b[0;32m-> 1071\u001b[0;31m             \u001b[0;32mreturn\u001b[0m \u001b[0mself\u001b[0m\u001b[0;34m.\u001b[0m\u001b[0mread\u001b[0m\u001b[0;34m(\u001b[0m\u001b[0mnbytes\u001b[0m\u001b[0;34m,\u001b[0m \u001b[0mbuffer\u001b[0m\u001b[0;34m)\u001b[0m\u001b[0;34m\u001b[0m\u001b[0;34m\u001b[0m\u001b[0m\n\u001b[0m\u001b[1;32m   1072\u001b[0m         \u001b[0;32melse\u001b[0m\u001b[0;34m:\u001b[0m\u001b[0;34m\u001b[0m\u001b[0;34m\u001b[0m\u001b[0m\n",
      "\u001b[0;32m~/opt/miniconda3/lib/python3.7/ssl.py\u001b[0m in \u001b[0;36mread\u001b[0;34m(self, len, buffer)\u001b[0m\n\u001b[1;32m    928\u001b[0m             \u001b[0;32mif\u001b[0m \u001b[0mbuffer\u001b[0m \u001b[0;32mis\u001b[0m \u001b[0;32mnot\u001b[0m \u001b[0;32mNone\u001b[0m\u001b[0;34m:\u001b[0m\u001b[0;34m\u001b[0m\u001b[0;34m\u001b[0m\u001b[0m\n\u001b[0;32m--> 929\u001b[0;31m                 \u001b[0;32mreturn\u001b[0m \u001b[0mself\u001b[0m\u001b[0;34m.\u001b[0m\u001b[0m_sslobj\u001b[0m\u001b[0;34m.\u001b[0m\u001b[0mread\u001b[0m\u001b[0;34m(\u001b[0m\u001b[0mlen\u001b[0m\u001b[0;34m,\u001b[0m \u001b[0mbuffer\u001b[0m\u001b[0;34m)\u001b[0m\u001b[0;34m\u001b[0m\u001b[0;34m\u001b[0m\u001b[0m\n\u001b[0m\u001b[1;32m    930\u001b[0m             \u001b[0;32melse\u001b[0m\u001b[0;34m:\u001b[0m\u001b[0;34m\u001b[0m\u001b[0;34m\u001b[0m\u001b[0m\n",
      "\u001b[0;31mKeyboardInterrupt\u001b[0m: ",
      "\nDuring handling of the above exception, another exception occurred:\n",
      "\u001b[0;31mKeyboardInterrupt\u001b[0m                         Traceback (most recent call last)",
      "\u001b[0;32m<ipython-input-22-97cb9ffe8116>\u001b[0m in \u001b[0;36m<module>\u001b[0;34m\u001b[0m\n\u001b[0;32m----> 1\u001b[0;31m \u001b[0mscrape_metadata\u001b[0m\u001b[0;34m(\u001b[0m\u001b[0muser_profile\u001b[0m\u001b[0;34m,\u001b[0m \u001b[0mtodo_users\u001b[0m\u001b[0;34m,\u001b[0m \u001b[0mdone_users_list\u001b[0m\u001b[0;34m)\u001b[0m\u001b[0;34m\u001b[0m\u001b[0;34m\u001b[0m\u001b[0m\n\u001b[0m",
      "\u001b[0;32m<ipython-input-3-9b678f6e91e2>\u001b[0m in \u001b[0;36mscrape_metadata\u001b[0;34m(output_file, todo_users, done_users_list, total_count)\u001b[0m\n\u001b[1;32m     28\u001b[0m                 \u001b[0mprint\u001b[0m\u001b[0;34m(\u001b[0m\u001b[0mcount\u001b[0m\u001b[0;34m,\u001b[0m \u001b[0;34m\" fail!\"\u001b[0m\u001b[0;34m)\u001b[0m\u001b[0;34m\u001b[0m\u001b[0;34m\u001b[0m\u001b[0m\n\u001b[1;32m     29\u001b[0m                 \u001b[0mcount\u001b[0m \u001b[0;34m+=\u001b[0m \u001b[0;36m1\u001b[0m\u001b[0;34m\u001b[0m\u001b[0;34m\u001b[0m\u001b[0m\n\u001b[0;32m---> 30\u001b[0;31m                 \u001b[0mtime\u001b[0m\u001b[0;34m.\u001b[0m\u001b[0msleep\u001b[0m\u001b[0;34m(\u001b[0m\u001b[0;36m1\u001b[0m\u001b[0;34m)\u001b[0m\u001b[0;34m\u001b[0m\u001b[0;34m\u001b[0m\u001b[0m\n\u001b[0m\u001b[1;32m     31\u001b[0m \u001b[0;34m\u001b[0m\u001b[0m\n\u001b[1;32m     32\u001b[0m         \u001b[0;32mif\u001b[0m \u001b[0mcount\u001b[0m \u001b[0;34m==\u001b[0m \u001b[0;36m10\u001b[0m\u001b[0;34m:\u001b[0m\u001b[0;34m\u001b[0m\u001b[0;34m\u001b[0m\u001b[0m\n",
      "\u001b[0;31mKeyboardInterrupt\u001b[0m: "
     ]
    }
   ],
   "source": [
    "scrape_metadata(user_profile, todo_users, done_users_list)"
   ]
  },
  {
   "cell_type": "code",
   "execution_count": 23,
   "metadata": {},
   "outputs": [
    {
     "name": "stdout",
     "output_type": "stream",
     "text": [
      "******************** 256361636188698521397028321337896574465 ********************\n",
      "213725 256361636188698521397028321337896574465\n",
      "defaultdict(<class 'list'>, {'I bought it, when we got my house built last month.': ['I bought it when we got my house built last month.'], 'It was one of my wish lists, as my hands got chapped from detergent.': ['It was an item on my wish list, as my hands got chapped from detergent.'], 'After using it, I realize that it is much more cleaner than washing by hands, and what’s more, I can reduce the time I spent doing washes.': ['After using it, I realize that it got the dishes much cleaner than washing by hand and what’s more, I can reduce the time I spent doing washes.'], 'My mother told me that she doesn’t need to buy it, because at first, she likes to doing washes.': ['My mother told me that she doesn’t need to buy one, because, first of all, she likes to doing washes.', 'My mother told me that she doesn’t need to buy, because first, she likes to do the dishes.'], 'Second, it’s much faster if she does washes by herself.': ['Second, it’s much faster if she does the washing by herself.', 'Second, it’s much faster if she does the dishes by hand.'], 'I came across an article the other day and they say doing washes is of good importance to remove your stresses.': ['I came across an article the other day saying that dish washing is useful for removing your stresses.'], 'But for me, doing washes is just an unpleasant job to give me a lot of band-aid.': ['But for me, dish washing is just an unpleasant job to give me a lot of band-aid.**']})\n",
      "******************** 66790772351198343205338104156873537443 ********************\n",
      "213725 66790772351198343205338104156873537443\n",
      "defaultdict(<class 'list'>, {'I went to see my old friends from college .': ['I went to see my old friends from college.'], 'I’m not good at driving , so I avoided using high way.': ['I’m not good at driving, so I avoided using a freeway.', 'I’m not good at driving , so I avoided using a  freeway.'], 'It ended up taking more than 2hours to get there.': ['It ended up taking more than two hours to get there.', 'It  took me more than 2hours to get there.'], 'After we both got married and had own family, we gradually stop keeping touch than before, because of hectic life.': [\"Since we both got married and had our own families, we haven't kept touch with each other as often as before, because of our hectic life.\", 'After we both got married and had our own families, we gradually stopped keeping in touch with each other , because of our hectic life.'], 'I think that real friend is the ones who can always there for you no matter where you are .': ['I think that real friend are the ones who can always there for you no matter where you are.', 'I think that real friends are  the ones who can always be there for you no matter where you are .'], 'I am happy to have friends and I want to treasure the ones I have now.': ['I am happy to have friends and I want to treasure them all the time.'], 'We haven’t seen for a long time, but we really had a good time as if we got back into old days.': ['We haven’t seen each other for a long time, but we really had a good time as if we got back into old days.']})\n",
      "******************** 26925720514685372472697671054459123619 ********************\n",
      "213725 26925720514685372472697671054459123619\n",
      "defaultdict(<class 'list'>, {})\n",
      "******************** 15315532881855258548031902035305937411 ********************\n",
      "213725 15315532881855258548031902035305937411\n",
      "defaultdict(<class 'list'>, {'Books give us not only for many useful information but leading to an exciting world.': ['Books not only give us a lot of useful information but lead to different exciting worlds.', 'Books not only give us  a lot of useful information but also lead us to an exciting world.'], 'If you like to change your life for the better quickly without spending too much, I believe reading  books is the best way.': ['If you like to change your life better quickly without spending too much time or money, I believe reading books is the best way.', 'If you  want to improve your life  quickly and without spending too much, I believe reading books is the best way.'], 'When you are in trouble, books will help you from most of things.': ['When you are in trouble, books will help you with most of your trouble.', 'When you are in trouble, books can save  you in most cases .'], 'The more you read , The more you broaden your horizon in that you can see different prospective.': ['The more books you read, the more you broaden your horizon in that you can see different prospective.', 'The more you read , the more you broaden your horizon  so that you can see different views .'], 'That is a power of reading.': ['That is the power of reading.', 'That is  the power of reading.'], 'By the way I’m an English learner so I would like to read Harry Potter in English since I’ve always dreamed of reading it.': ['By the way, I’m an English learner so I would like to read Harry Potter in English, which is the dream that I’ve always had.', 'By the way, I’m an English learner, so I would like to read Harry Potter in English since I’ve always dreamed of reading it.'], 'I didn’t use to like to read but now I love to read books.': ['I didn’t use to like to read, but now I love to read books.']})\n",
      "******************** 108212644102131691452826825631334775299 ********************\n",
      "213725 108212644102131691452826825631334775299\n",
      "defaultdict(<class 'list'>, {\"The meaning of the word “Output “is to get the knowledge you've learned ,and then talk, spread that .\": [\"The meaning of the word “Output “is to use the knowledge you've learned, such as speaking.\"], 'An Japanese English teacher told me the word of “output “ is not quite right English, because the word is made from Japanese, but an African English teacher told me before, the word of “output” is used worldwide .': ['A Japanese English teacher told me the word “output “ is not quite right in English, because the word comes from Japanese, but an African English teacher told me before that the word “output” is used worldwide .'], 'Who do you think the answer is right?': ['Whose answer do you think is right?'], 'When it comes to English learning,I’ve heard of the word so many times recently.': ['While learning English, I’ve heard of the word so many times recently.'], 'In my English study, it’s obvious that input study such as reading, listening, are occupied mostly,compared to input study since I don’t speak English except that I speak to myself .': ['In my English study, it’s obvious that input study such as reading, listening, are occupied mostly,compared to input study since I don’t speak English except that I speak to myself .'], 'I happened to find an article said that the best balance of input and output is 3to7.': ['I happened to find an article which said that the best balance of input and output is 3to7.'], 'It means I need to make a effort to increase a output study.': ['It means I need to make efforts to increase my output study.']})\n",
      "******************** 73927908420361877026438805040786028451 ********************\n",
      "213725 73927908420361877026438805040786028451\n",
      "defaultdict(<class 'list'>, {'I have been suffering from stiff neck and shoulders.': ['I have been suffering from a stiff neck and shoulders.', 'I have been suffering from a stiff neck and shoulders.', \"I've been suffering from a stiff neck and shoulders, which also causes headaches.\"], 'It also causes headache.': ['It also causes a headache.', 'It also causes a headache.', ''], 'Here is my this month’s goal , First, I do radio exercise early  in the morning .': ['Here are what I want to keep doing this month. First, I do radio exercise early in the morning .', 'Here is my  month’s goal. First, I do radio exercise early in the morning.', 'This month’s goal: First, radio exercise early in the morning.'], 'Finally,I do  stretch my body and do sit-ups up and push-ups each twenty times before going to bed.': ['Finally, I stretch my body and do sit-ups up and push-ups each twenty times before going to bed.', 'Finally, I  stretch my body and do sit-ups up and push-ups  twenty times each before going to bed.', 'Finally, do stretches and then sit-ups and push-ups twenty times each before bed.'], 'I’d like to take a little step until it becomes to come to my habit.': ['I’d like to make a little more effort than usual until they all become to my habit.', 'I’d like to take a little step until it becomes a t habit.', 'I’d like to take little steps until it becomes a habit.'], 'I think it’s important for me to keep on doing exercise every day.': ['I think it’s important for me to keep (on) doing some exercises every day.', 'I think it’s important for me to keep on doing exercise every day.', 'I think it’s important (for me) to keep exercising daily.'], 'To improve my health helps me to increase the quality of life as well.': ['Improving my health helps me increase the quality of my life as well.', 'Improving my health helps me to increase my quality of life as well.', 'Improving my health will help increase my quality of life as well.'], 'I hope to live a more healthy and happy life.': [\"I hope I'll have a healthier and happier life.\", 'I hope to live a more healthy and happy life.', 'I hope to live a more healthy, happy life.'], 'I’ve also lost my muscle as I I haven’t worked out recently.': ['I’ve also lost my muscle tone as I haven’t worked out recently.', \"I've also lost muscle tone, as I haven’t worked out recently.\"], 'I decided to try to get some exercises every day.': ['I decided to try to get some exercise every day.', 'I decided to try to exercise every day.'], 'Second, I do step training for at least 10 minutes after lunch.': ['Second, step training for at least 10 minutes after lunch.']})\n",
      "******************** 289379293448979329064073272001689926147 ********************\n",
      "213725 289379293448979329064073272001689926147\n",
      "defaultdict(<class 'list'>, {'November is my favorite month of the year.': ['November is my favorite month.'], 'We say fall is the best seasons for eating and reading.': ['We say fall is the best season for eating and reading.'], 'The view which the trees turn yellow are amazing,  and we enjoy to leaf peeping as well.': ['The view which the trees turn yellow are amazing, and we enjoy viewing autumn colors as well.'], 'While I was feeling fall in the air, I browsed at the store the other day and then I saw many schedule planner display.': ['While I was feeling fall in the air, I browsed around the store the other day and then I saw many schedule planners were displayed.'], 'As I saw, I imagined some fun events for next year and I am excited to what is going on .': ['When I saw them, I imagined some fun events for next year and I got excited to think of what would be going on .'], 'actually I am the person who never use schedule planner because I like to write down so many memo and like to use original notebooks better .': ['Actually I never use schedule planners because I like to write down so many memos and like to use normal notebooks better .'], 'In this digital ages,  I am wondering how many people still use schedule planners which made from paper .': ['In this digital age, I am wondering how many people still use schedule planners made from paper.']})\n",
      "******************** 289084686853797097687930179260295526915 ********************\n",
      "213725 289084686853797097687930179260295526915\n",
      "defaultdict(<class 'list'>, {'I went to a garbage incineration plant last Sunday so as  to throw our old furniture away.': ['I went to a garbage incineration plant last Sunday  to throw our old furniture away.'], 'Surprisingly, when we arrived, many people had already lined up.': ['Surprisingly, when we arrived, many people had already lined up.'], 'It ended up taking three times as long as than we expected.': ['It ended up taking three times as long as than we expected.'], 'I realized that throwing away is required for taking some time and effort.': ['I realized that throwing away is required for taking some time and effort.'], 'So we might able to live simple life and to take good care of things what we really need .': ['So we might be able to live a simple life and to take good care of things that we really need.']})\n",
      "******************** 210279654542028363666303976103231207939 ********************\n",
      "213725 210279654542028363666303976103231207939\n",
      "defaultdict(<class 'list'>, {'Literally, There are not any space to stand.': [\"Literally, there isn't any space to stand.\"], \"I'm on may way to preparing for moving.\": [\"I'm in the middle of preparing for moving out.\"], 'I never thought that moving was so tough.': ['I had never thought that moving would be so tough.'], 'At the same time, I was so surprised that I had so many things which I have to disposal.': ['At the same time, I was so surprised that I had so many things which/that I had to dispose of/throw away.'], 'Some furniture has no choice to throw away, which cannot bring to new house.': ['Some furniture has no choice to throw away, which cannot bring it to our new house.'], 'Most book I may never read, so I decided to bring them to the library to contribute.': ['I may never read most of my books, so I decided to contribute them to the library.', 'I have many  books that I may never read, so I decided to contribute  them to a library .'], 'I found it is easy to buy  but it is more difficult  to dispose.': ['I found it is easy to buy but it is more difficult to throw away.', 'I realized that  it is easy to buy (things?), but it is more difficult to  throw them away.'], 'I should have bought more careful when I bought things.': ['I should have thought more carefully when I bought those things.'], 'My house has a plenty of cardboard boxes right now.': ['My house is full  of cardboard boxes right now.']})\n",
      "******************** 86761333878304985293229014829319829411 ********************\n",
      "213725 86761333878304985293229014829319829411\n",
      "defaultdict(<class 'list'>, {'I failed pre-1Eiken exam twice in a row.': ['I failed the pre-1 Eiken exam twice in a row.'], 'I was feeling that I would failed it ': ['I was feeling like I would fail it '], 'because my writing was a disaster, which misunderstood the main point.': ['because my writing was a disaster, in which I misunderstood the main point.'], \"what's worse, in terms of vocabulary , I couldn't answer right , though I thought it was mostly fine.\": [\"What's worse, in terms of vocabulary, I couldn't answer right, though I thought it was mostly fine.\"], \"I still didn't know why I made mistake so many questions.\": [\"I still didn't know why I got so many questions wrong.\"], \"Honestly, It was apparent I wasn't enough better of my ability.\": [\"Honestly, it was apparent I wasn't improving enough.\"], 'It was the first time since I started to study in earnest.': ['It was the first time I failed an exam since I started to study in earnest.'], 'I just took some nice sleep and watch movie and cook for my family during a week.': ['I just slept in, watched movies, and cooked for my family for a week.'], 'now I am ready to study again.': ['Now I am ready to study again.'], 'First, I complimented for my trying, I have been studying hard.': ['First, I complimented myself for my effort, I have been studying hard.'], 'I only failed the exam, I have an another chance to pass.': ['I only failed the exam twice, I have another chance to pass.'], 'I will keep on studying to receive my goal no matter what.': ['I will keep on studying to achieve my goal no matter what.']})\n",
      "******************** 101458756511854233103985034296152268289 ********************\n",
      "213725 101458756511854233103985034296152268289\n",
      "defaultdict(<class 'list'>, {'More and more people are living hectic life, so if we get knowledge of how to use time efficiently, we would spend more productive thing such as reading books , relaxing at home, or doing exercise.': ['More and more people are living hectic lives, so if we learn of how to use time efficiently, we would spend it more productively by doing things, such as reading books, relaxing at home, or doing exercise.'], 'The book give us many ideas to save time.': ['The book give us many ideas on how to save time.'], \"One thing that I would like to try is to separate from what you need to do and what you don't need to do.\": [\"One thing that I would like to try is to separate what I need to do from what I don't (need to do).\"], 'In another word, to make not to do list.': ['In another words, to make a to-do list.'], 'Firstly I thought I should start to know what I am doing every day.': ['First, I thought I should start to know what I am doing every day.'], 'Then make prioritize what I want to do.': ['Then prioritize what I want to do.'], \"I'll just keep in mind these tips are great , but what I make an action is the most important.\": ['Keeping these tips in mind is great, but actions are more important. /Keeping these tips in mind is great, but doing is better than just thinking.']})\n",
      "******************** 203860010446665114081520125991571928995 ********************\n",
      "213725 203860010446665114081520125991571928995\n",
      "defaultdict(<class 'list'>, {\"I'm recently into Harry Potter.\": [\"I'm recently into Harry Potter.\", \"Recently, I've been into Harry Potter.\"], \"I've read them once when I was a child, but when I started to reread , I'm finding that I did not remember the whole story at all.\": [\"I've read the series once when I was a child, but when I started to reread them, I found that I did not remember the whole story at all.\", 'I once read them when I was a child, but since I started reading them again, I realized that I did not remember the whole story at all.'], 'It looks like I was not interested in it before .': ['It seems like I was not interested in it before.'], 'I may have read them because it was just best-sellers.': ['I may have read them because they were just best-sellers.'], 'anyway It was about twenty years ago.': ['Anyway, that was about twenty years ago.'], 'Time surely fries.': ['Time surely flies.'], \"Speaking of which, I've thought Harry Potter was books for children, But I realized that the more I read ,the more I become to be attractive by the books.\": ['Speaking of which, I had thought Harry Potter books were for children, But I realized that the more I read, the more I became attracted by the books.', 'Speaking of which, I had thought Harry Potter books were for children, but I realized that the more I read, the more attractive they become to me.'], 'The story and the characters are outstanding , not to mention the movie set such as outfits and prop .': ['The story and the characters are outstanding, not to mention the movie sets, outfits and props.'], 'A lot of people thinks Harry Potter is just fantasy story, but actually it is not only for that but also educate us for courage  and friendship and so on.': ['A lot of people think Harry Potter is just fantasy stories, but actually it is not only for that but they also educate us in terms of courage, friendship and so on.', 'A lot of people thinks Harry Potter is just fantasy story, but actually it is not only for that but also educate us about the importance of courage, friendship and so on.']})\n",
      "******************** 9824360292744538930648547903961544611 ********************\n",
      "213725 9824360292744538930648547903961544611\n",
      "defaultdict(<class 'list'>, {'It has been a long time that we eat out for lunch together just only us since we had a daughter.': ['We ate out for lunch together by ourselves for the first time since we had a daughter.'], 'We were seated next to window and it had a beautiful view.': ['We were seated next to the window and it had a beautiful view.'], 'We enjoyed a good meal while seeing cute swimming birds on the lake.': ['We enjoyed a good meal while seeing cute birds swimming on the lake.']})\n",
      "******************** 272270008827710797554997709641524682241 ********************\n",
      "213725 272270008827710797554997709641524682241\n",
      "defaultdict(<class 'list'>, {\"I saw it on the news that Ireland's Supreme Court has ruled subway's  bread is not bread\": [\"I saw on the news that Ireland's Supreme Court has ruled Subway's bread is not bread\"], \"The main point is about  what subway's bread should impose Value-Added Tax Act or not.\": [\"The main point is about whether or not Subway's bread should have the Value-Added Tax Act imposed on it or not.\"], 'They made a decision because the bread sold by subway has too much sugar in it to be called bread.': ['They made a decision because the bread sold by Subway has too much sugar in it to be called bread.'], 'It is said that the definition of bread is less than 2% of sugar contain.': ['It is said that to be defined as bread, it must contain less than 2% sugar.'], 'I did not know it until now and never thought of it.': ['I did not know that until now and never thought of it.'], \"But if it is right , how should we call the subway's bread ?\": ['But if it is right, what should we call Subway\\'s \"bread\"?'], 'From now on , The chances are people will have to be described it as \"something like bread \" ?': ['From now on, do you think that chances are people will have to describe it as \"something like bread\"?']})\n",
      "******************** 209622523639742916450468077609485580195 ********************\n",
      "213725 209622523639742916450468077609485580195\n",
      "defaultdict(<class 'list'>, {'I came across a fuss-free cookie recipe which made of hotcake mix the other day.': ['I came across a fuss-free cookie recipe which  used hotcake mix the other day.'], 'This was my first time to try to bake it.': ['This was my first time trying to bake it.'], 'It ended up too swell to be called cookie as I expected.': ['It ended up bigger than what I would call a cookie.'], 'It tasted just as it was.': ['It tasted just as it was. like hotcake mix.'], 'The only good thing what I found was it was  simple and easy to make.': ['The only good thing about it was it was simple and easy to make.'], 'But Kate smiled and ate happily because she was able to cook them herself.': ['But Kate smiled and ate the cookies happily because she was able to cook them herself.']})\n",
      "******************** 144091741491648197908723994565252200355 ********************\n",
      "213725 144091741491648197908723994565252200355\n",
      "defaultdict(<class 'list'>, {'I went for a walk with my daughter who rides on a tricycle early in the morning.': ['I went for a walk with my daughter, who rides on a tricycle early, in the morning.', 'I went for a walk with my daughter, who was riding on a tricycle, early in the morning.'], 'It was a bit hot even it autumn came around.': ['It was a bit hot even though autumn has come around.'], 'we stopped by a supermarket and bought ice-cream.': ['We stopped by a supermarket and bought ice cream.'], 'It did not allow us to eat it on all tables, so we had no choice but to eat it outside.': ['They did not allow us to eat at the tables, so we had no choice but to eat it outside.']})\n",
      "******************** 173820573133975343443703218802855229347 ********************\n",
      "213725 173820573133975343443703218802855229347\n",
      "defaultdict(<class 'list'>, {'While reading books, I am able to face myself deeply, and absorb the knowledge from wise man.': ['While reading books, I am able to face myself deeply, and absorb the knowledge from wise man (men or people).', 'While reading books, I am able to face myself deeply, and absorb the knowledge from wise men.'], 'At the same time, I always write down what I thought that to remember my feelings.': ['At the same time, I always write down what I thought that to remember my feelings.', 'I always write down what I thought at the same time to remember my feelings.'], 'Then I realized that my perspective has changed and let me have a mind-broadening.': ['Then I realized that my perspective has changed  because of this mind-broadening experience.', 'Then I realize that my perspective has changed and it lets me experience mind-broadening.'], 'I’m sure that the more I read books, the more I become be more like myself.': ['I’m sure that the more I read books, the more I become like myself.', 'I’m sure that the more I read books, the more I will come to like myself.']})\n",
      "******************** 175919122433102828503406040261378946979 ********************\n",
      "213725 175919122433102828503406040261378946979\n",
      "defaultdict(<class 'list'>, {'When I speak in Japanese, I care too much about what the others think of me.': ['When I speak in Japanese, I care too much about what others think of me.'], 'That is because our culture need to respect the elderly and speak politely in order to live well in the community.': ['That is because in our culture we  respect the elderly and speak politely in order to live well in the community.'], 'Speaking English Has completely changed my life and Lets me more like myself.': ['Speaking English has completely changed my life and lets me be more like myself.']})\n",
      "******************** 178987358365104073979568696564263925667 ********************\n",
      "213725 178987358365104073979568696564263925667\n",
      "defaultdict(<class 'list'>, {'I have two reasons to explain the difference between Japanese and English.': ['I have two explanations for the differences between Japanese and English.', 'I have two reasons to explain the difference between Japanese and English.'], 'First, grammar is totally different.': ['First, the grammar is totally different.', 'First, English grammar is totally different from Japanese.'], 'English requires to specific subject like I or you.': ['English requires to specify subject like I or you.', 'English requires to specify the subject like you or I.'], 'On the other hand, Japanese often does not require it , which can omit.': ['In Japanese it often is not required, and can be omitted.'], 'I like the way English’s beautiful and powerful sound and  modulation.': ['I like the beautiful and powerful sound and modulation of English.'], 'The way I see it, If  I speak English,  I am be able to become more positive.': ['The way I see it, If I speak English, I become more positive.', 'Because I see English like this, when I speak English, I can become more positive.'], 'That’s the things I love English.': ['That’s the things I love of English.', 'That’s why I love English.'], 'Second, pronunciation is completely different.': ['Second, their words are completely different.']})\n",
      "******************** 128628740473966544949081283236456866956 ********************\n",
      "0 fail\n"
     ]
    },
    {
     "ename": "KeyboardInterrupt",
     "evalue": "",
     "output_type": "error",
     "traceback": [
      "\u001b[0;31m---------------------------------------------------------------------------\u001b[0m",
      "\u001b[0;31mKeyboardInterrupt\u001b[0m                         Traceback (most recent call last)",
      "\u001b[0;32m<ipython-input-12-f82f466fb1b7>\u001b[0m in \u001b[0;36mscrape_parralel_sents\u001b[0;34m(user_profile, pral_corpus, total_count)\u001b[0m\n\u001b[1;32m     10\u001b[0m                     \u001b[0mjournal_id\u001b[0m \u001b[0;34m=\u001b[0m \u001b[0mjournal_id\u001b[0m\u001b[0;34m.\u001b[0m\u001b[0mstrip\u001b[0m\u001b[0;34m(\u001b[0m\u001b[0;34m\"'\"\u001b[0m\u001b[0;34m)\u001b[0m\u001b[0;34m\u001b[0m\u001b[0;34m\u001b[0m\u001b[0m\n\u001b[0;32m---> 11\u001b[0;31m                     \u001b[0msent_pairs\u001b[0m \u001b[0;34m=\u001b[0m \u001b[0mdownload_parallel_sents\u001b[0m\u001b[0;34m(\u001b[0m\u001b[0muser_id\u001b[0m\u001b[0;34m=\u001b[0m\u001b[0muser_id\u001b[0m\u001b[0;34m,\u001b[0m \u001b[0mjournal_id\u001b[0m\u001b[0;34m=\u001b[0m\u001b[0mjournal_id\u001b[0m\u001b[0;34m)\u001b[0m\u001b[0;34m\u001b[0m\u001b[0;34m\u001b[0m\u001b[0m\n\u001b[0m\u001b[1;32m     12\u001b[0m                     \u001b[0mprint\u001b[0m\u001b[0;34m(\u001b[0m\u001b[0muser_id\u001b[0m\u001b[0;34m,\u001b[0m \u001b[0mjournal_id\u001b[0m\u001b[0;34m)\u001b[0m\u001b[0;34m\u001b[0m\u001b[0;34m\u001b[0m\u001b[0m\n",
      "\u001b[0;32m<ipython-input-2-c9e9c6422669>\u001b[0m in \u001b[0;36mdownload_parallel_sents\u001b[0;34m(user_id, journal_id)\u001b[0m\n\u001b[1;32m      4\u001b[0m     \u001b[0murl\u001b[0m \u001b[0;34m=\u001b[0m \u001b[0;34mf\"https://lang-8.com/{user_id}/journals/{journal_id}\"\u001b[0m\u001b[0;34m\u001b[0m\u001b[0;34m\u001b[0m\u001b[0m\n\u001b[0;32m----> 5\u001b[0;31m     \u001b[0msoup\u001b[0m \u001b[0;34m=\u001b[0m \u001b[0mBeautifulSoup\u001b[0m\u001b[0;34m(\u001b[0m\u001b[0murlopen\u001b[0m\u001b[0;34m(\u001b[0m\u001b[0murl\u001b[0m\u001b[0;34m)\u001b[0m\u001b[0;34m,\u001b[0m \u001b[0;34m\"html.parser\"\u001b[0m\u001b[0;34m)\u001b[0m\u001b[0;34m\u001b[0m\u001b[0;34m\u001b[0m\u001b[0m\n\u001b[0m\u001b[1;32m      6\u001b[0m     \u001b[0mcorrections\u001b[0m \u001b[0;34m=\u001b[0m \u001b[0mget_corrections\u001b[0m\u001b[0;34m(\u001b[0m\u001b[0msoup\u001b[0m\u001b[0;34m)\u001b[0m\u001b[0;34m\u001b[0m\u001b[0;34m\u001b[0m\u001b[0m\n",
      "\u001b[0;32m~/opt/miniconda3/lib/python3.7/urllib/request.py\u001b[0m in \u001b[0;36murlopen\u001b[0;34m(url, data, timeout, cafile, capath, cadefault, context)\u001b[0m\n\u001b[1;32m    221\u001b[0m         \u001b[0mopener\u001b[0m \u001b[0;34m=\u001b[0m \u001b[0m_opener\u001b[0m\u001b[0;34m\u001b[0m\u001b[0;34m\u001b[0m\u001b[0m\n\u001b[0;32m--> 222\u001b[0;31m     \u001b[0;32mreturn\u001b[0m \u001b[0mopener\u001b[0m\u001b[0;34m.\u001b[0m\u001b[0mopen\u001b[0m\u001b[0;34m(\u001b[0m\u001b[0murl\u001b[0m\u001b[0;34m,\u001b[0m \u001b[0mdata\u001b[0m\u001b[0;34m,\u001b[0m \u001b[0mtimeout\u001b[0m\u001b[0;34m)\u001b[0m\u001b[0;34m\u001b[0m\u001b[0;34m\u001b[0m\u001b[0m\n\u001b[0m\u001b[1;32m    223\u001b[0m \u001b[0;34m\u001b[0m\u001b[0m\n",
      "\u001b[0;32m~/opt/miniconda3/lib/python3.7/urllib/request.py\u001b[0m in \u001b[0;36mopen\u001b[0;34m(self, fullurl, data, timeout)\u001b[0m\n\u001b[1;32m    524\u001b[0m \u001b[0;34m\u001b[0m\u001b[0m\n\u001b[0;32m--> 525\u001b[0;31m         \u001b[0mresponse\u001b[0m \u001b[0;34m=\u001b[0m \u001b[0mself\u001b[0m\u001b[0;34m.\u001b[0m\u001b[0m_open\u001b[0m\u001b[0;34m(\u001b[0m\u001b[0mreq\u001b[0m\u001b[0;34m,\u001b[0m \u001b[0mdata\u001b[0m\u001b[0;34m)\u001b[0m\u001b[0;34m\u001b[0m\u001b[0;34m\u001b[0m\u001b[0m\n\u001b[0m\u001b[1;32m    526\u001b[0m \u001b[0;34m\u001b[0m\u001b[0m\n",
      "\u001b[0;32m~/opt/miniconda3/lib/python3.7/urllib/request.py\u001b[0m in \u001b[0;36m_open\u001b[0;34m(self, req, data)\u001b[0m\n\u001b[1;32m    542\u001b[0m         result = self._call_chain(self.handle_open, protocol, protocol +\n\u001b[0;32m--> 543\u001b[0;31m                                   '_open', req)\n\u001b[0m\u001b[1;32m    544\u001b[0m         \u001b[0;32mif\u001b[0m \u001b[0mresult\u001b[0m\u001b[0;34m:\u001b[0m\u001b[0;34m\u001b[0m\u001b[0;34m\u001b[0m\u001b[0m\n",
      "\u001b[0;32m~/opt/miniconda3/lib/python3.7/urllib/request.py\u001b[0m in \u001b[0;36m_call_chain\u001b[0;34m(self, chain, kind, meth_name, *args)\u001b[0m\n\u001b[1;32m    502\u001b[0m             \u001b[0mfunc\u001b[0m \u001b[0;34m=\u001b[0m \u001b[0mgetattr\u001b[0m\u001b[0;34m(\u001b[0m\u001b[0mhandler\u001b[0m\u001b[0;34m,\u001b[0m \u001b[0mmeth_name\u001b[0m\u001b[0;34m)\u001b[0m\u001b[0;34m\u001b[0m\u001b[0;34m\u001b[0m\u001b[0m\n\u001b[0;32m--> 503\u001b[0;31m             \u001b[0mresult\u001b[0m \u001b[0;34m=\u001b[0m \u001b[0mfunc\u001b[0m\u001b[0;34m(\u001b[0m\u001b[0;34m*\u001b[0m\u001b[0margs\u001b[0m\u001b[0;34m)\u001b[0m\u001b[0;34m\u001b[0m\u001b[0;34m\u001b[0m\u001b[0m\n\u001b[0m\u001b[1;32m    504\u001b[0m             \u001b[0;32mif\u001b[0m \u001b[0mresult\u001b[0m \u001b[0;32mis\u001b[0m \u001b[0;32mnot\u001b[0m \u001b[0;32mNone\u001b[0m\u001b[0;34m:\u001b[0m\u001b[0;34m\u001b[0m\u001b[0;34m\u001b[0m\u001b[0m\n",
      "\u001b[0;32m~/opt/miniconda3/lib/python3.7/urllib/request.py\u001b[0m in \u001b[0;36mhttps_open\u001b[0;34m(self, req)\u001b[0m\n\u001b[1;32m   1392\u001b[0m             return self.do_open(http.client.HTTPSConnection, req,\n\u001b[0;32m-> 1393\u001b[0;31m                 context=self._context, check_hostname=self._check_hostname)\n\u001b[0m\u001b[1;32m   1394\u001b[0m \u001b[0;34m\u001b[0m\u001b[0m\n",
      "\u001b[0;32m~/opt/miniconda3/lib/python3.7/urllib/request.py\u001b[0m in \u001b[0;36mdo_open\u001b[0;34m(self, http_class, req, **http_conn_args)\u001b[0m\n\u001b[1;32m   1352\u001b[0m                 \u001b[0;32mraise\u001b[0m \u001b[0mURLError\u001b[0m\u001b[0;34m(\u001b[0m\u001b[0merr\u001b[0m\u001b[0;34m)\u001b[0m\u001b[0;34m\u001b[0m\u001b[0;34m\u001b[0m\u001b[0m\n\u001b[0;32m-> 1353\u001b[0;31m             \u001b[0mr\u001b[0m \u001b[0;34m=\u001b[0m \u001b[0mh\u001b[0m\u001b[0;34m.\u001b[0m\u001b[0mgetresponse\u001b[0m\u001b[0;34m(\u001b[0m\u001b[0;34m)\u001b[0m\u001b[0;34m\u001b[0m\u001b[0;34m\u001b[0m\u001b[0m\n\u001b[0m\u001b[1;32m   1354\u001b[0m         \u001b[0;32mexcept\u001b[0m\u001b[0;34m:\u001b[0m\u001b[0;34m\u001b[0m\u001b[0;34m\u001b[0m\u001b[0m\n",
      "\u001b[0;32m~/opt/miniconda3/lib/python3.7/http/client.py\u001b[0m in \u001b[0;36mgetresponse\u001b[0;34m(self)\u001b[0m\n\u001b[1;32m   1368\u001b[0m             \u001b[0;32mtry\u001b[0m\u001b[0;34m:\u001b[0m\u001b[0;34m\u001b[0m\u001b[0;34m\u001b[0m\u001b[0m\n\u001b[0;32m-> 1369\u001b[0;31m                 \u001b[0mresponse\u001b[0m\u001b[0;34m.\u001b[0m\u001b[0mbegin\u001b[0m\u001b[0;34m(\u001b[0m\u001b[0;34m)\u001b[0m\u001b[0;34m\u001b[0m\u001b[0;34m\u001b[0m\u001b[0m\n\u001b[0m\u001b[1;32m   1370\u001b[0m             \u001b[0;32mexcept\u001b[0m \u001b[0mConnectionError\u001b[0m\u001b[0;34m:\u001b[0m\u001b[0;34m\u001b[0m\u001b[0;34m\u001b[0m\u001b[0m\n",
      "\u001b[0;32m~/opt/miniconda3/lib/python3.7/http/client.py\u001b[0m in \u001b[0;36mbegin\u001b[0;34m(self)\u001b[0m\n\u001b[1;32m    309\u001b[0m         \u001b[0;32mwhile\u001b[0m \u001b[0;32mTrue\u001b[0m\u001b[0;34m:\u001b[0m\u001b[0;34m\u001b[0m\u001b[0;34m\u001b[0m\u001b[0m\n\u001b[0;32m--> 310\u001b[0;31m             \u001b[0mversion\u001b[0m\u001b[0;34m,\u001b[0m \u001b[0mstatus\u001b[0m\u001b[0;34m,\u001b[0m \u001b[0mreason\u001b[0m \u001b[0;34m=\u001b[0m \u001b[0mself\u001b[0m\u001b[0;34m.\u001b[0m\u001b[0m_read_status\u001b[0m\u001b[0;34m(\u001b[0m\u001b[0;34m)\u001b[0m\u001b[0;34m\u001b[0m\u001b[0;34m\u001b[0m\u001b[0m\n\u001b[0m\u001b[1;32m    311\u001b[0m             \u001b[0;32mif\u001b[0m \u001b[0mstatus\u001b[0m \u001b[0;34m!=\u001b[0m \u001b[0mCONTINUE\u001b[0m\u001b[0;34m:\u001b[0m\u001b[0;34m\u001b[0m\u001b[0;34m\u001b[0m\u001b[0m\n",
      "\u001b[0;32m~/opt/miniconda3/lib/python3.7/http/client.py\u001b[0m in \u001b[0;36m_read_status\u001b[0;34m(self)\u001b[0m\n\u001b[1;32m    270\u001b[0m     \u001b[0;32mdef\u001b[0m \u001b[0m_read_status\u001b[0m\u001b[0;34m(\u001b[0m\u001b[0mself\u001b[0m\u001b[0;34m)\u001b[0m\u001b[0;34m:\u001b[0m\u001b[0;34m\u001b[0m\u001b[0;34m\u001b[0m\u001b[0m\n\u001b[0;32m--> 271\u001b[0;31m         \u001b[0mline\u001b[0m \u001b[0;34m=\u001b[0m \u001b[0mstr\u001b[0m\u001b[0;34m(\u001b[0m\u001b[0mself\u001b[0m\u001b[0;34m.\u001b[0m\u001b[0mfp\u001b[0m\u001b[0;34m.\u001b[0m\u001b[0mreadline\u001b[0m\u001b[0;34m(\u001b[0m\u001b[0m_MAXLINE\u001b[0m \u001b[0;34m+\u001b[0m \u001b[0;36m1\u001b[0m\u001b[0;34m)\u001b[0m\u001b[0;34m,\u001b[0m \u001b[0;34m\"iso-8859-1\"\u001b[0m\u001b[0;34m)\u001b[0m\u001b[0;34m\u001b[0m\u001b[0;34m\u001b[0m\u001b[0m\n\u001b[0m\u001b[1;32m    272\u001b[0m         \u001b[0;32mif\u001b[0m \u001b[0mlen\u001b[0m\u001b[0;34m(\u001b[0m\u001b[0mline\u001b[0m\u001b[0;34m)\u001b[0m \u001b[0;34m>\u001b[0m \u001b[0m_MAXLINE\u001b[0m\u001b[0;34m:\u001b[0m\u001b[0;34m\u001b[0m\u001b[0;34m\u001b[0m\u001b[0m\n",
      "\u001b[0;32m~/opt/miniconda3/lib/python3.7/socket.py\u001b[0m in \u001b[0;36mreadinto\u001b[0;34m(self, b)\u001b[0m\n\u001b[1;32m    588\u001b[0m             \u001b[0;32mtry\u001b[0m\u001b[0;34m:\u001b[0m\u001b[0;34m\u001b[0m\u001b[0;34m\u001b[0m\u001b[0m\n\u001b[0;32m--> 589\u001b[0;31m                 \u001b[0;32mreturn\u001b[0m \u001b[0mself\u001b[0m\u001b[0;34m.\u001b[0m\u001b[0m_sock\u001b[0m\u001b[0;34m.\u001b[0m\u001b[0mrecv_into\u001b[0m\u001b[0;34m(\u001b[0m\u001b[0mb\u001b[0m\u001b[0;34m)\u001b[0m\u001b[0;34m\u001b[0m\u001b[0;34m\u001b[0m\u001b[0m\n\u001b[0m\u001b[1;32m    590\u001b[0m             \u001b[0;32mexcept\u001b[0m \u001b[0mtimeout\u001b[0m\u001b[0;34m:\u001b[0m\u001b[0;34m\u001b[0m\u001b[0;34m\u001b[0m\u001b[0m\n",
      "\u001b[0;32m~/opt/miniconda3/lib/python3.7/ssl.py\u001b[0m in \u001b[0;36mrecv_into\u001b[0;34m(self, buffer, nbytes, flags)\u001b[0m\n\u001b[1;32m   1070\u001b[0m                   self.__class__)\n\u001b[0;32m-> 1071\u001b[0;31m             \u001b[0;32mreturn\u001b[0m \u001b[0mself\u001b[0m\u001b[0;34m.\u001b[0m\u001b[0mread\u001b[0m\u001b[0;34m(\u001b[0m\u001b[0mnbytes\u001b[0m\u001b[0;34m,\u001b[0m \u001b[0mbuffer\u001b[0m\u001b[0;34m)\u001b[0m\u001b[0;34m\u001b[0m\u001b[0;34m\u001b[0m\u001b[0m\n\u001b[0m\u001b[1;32m   1072\u001b[0m         \u001b[0;32melse\u001b[0m\u001b[0;34m:\u001b[0m\u001b[0;34m\u001b[0m\u001b[0;34m\u001b[0m\u001b[0m\n",
      "\u001b[0;32m~/opt/miniconda3/lib/python3.7/ssl.py\u001b[0m in \u001b[0;36mread\u001b[0;34m(self, len, buffer)\u001b[0m\n\u001b[1;32m    928\u001b[0m             \u001b[0;32mif\u001b[0m \u001b[0mbuffer\u001b[0m \u001b[0;32mis\u001b[0m \u001b[0;32mnot\u001b[0m \u001b[0;32mNone\u001b[0m\u001b[0;34m:\u001b[0m\u001b[0;34m\u001b[0m\u001b[0;34m\u001b[0m\u001b[0m\n\u001b[0;32m--> 929\u001b[0;31m                 \u001b[0;32mreturn\u001b[0m \u001b[0mself\u001b[0m\u001b[0;34m.\u001b[0m\u001b[0m_sslobj\u001b[0m\u001b[0;34m.\u001b[0m\u001b[0mread\u001b[0m\u001b[0;34m(\u001b[0m\u001b[0mlen\u001b[0m\u001b[0;34m,\u001b[0m \u001b[0mbuffer\u001b[0m\u001b[0;34m)\u001b[0m\u001b[0;34m\u001b[0m\u001b[0;34m\u001b[0m\u001b[0m\n\u001b[0m\u001b[1;32m    930\u001b[0m             \u001b[0;32melse\u001b[0m\u001b[0;34m:\u001b[0m\u001b[0;34m\u001b[0m\u001b[0;34m\u001b[0m\u001b[0m\n",
      "\u001b[0;31mKeyboardInterrupt\u001b[0m: ",
      "\nDuring handling of the above exception, another exception occurred:\n",
      "\u001b[0;31mKeyboardInterrupt\u001b[0m                         Traceback (most recent call last)",
      "\u001b[0;32m<ipython-input-23-8880049df369>\u001b[0m in \u001b[0;36m<module>\u001b[0;34m\u001b[0m\n\u001b[0;32m----> 1\u001b[0;31m \u001b[0mscrape_parralel_sents\u001b[0m\u001b[0;34m(\u001b[0m\u001b[0muser_profile\u001b[0m\u001b[0;34m,\u001b[0m \u001b[0;34m\"./data/paral_sents.txt\"\u001b[0m\u001b[0;34m)\u001b[0m\u001b[0;34m\u001b[0m\u001b[0;34m\u001b[0m\u001b[0m\n\u001b[0m",
      "\u001b[0;32m<ipython-input-12-f82f466fb1b7>\u001b[0m in \u001b[0;36mscrape_parralel_sents\u001b[0;34m(user_profile, pral_corpus, total_count)\u001b[0m\n\u001b[1;32m     23\u001b[0m                     \u001b[0mprint\u001b[0m\u001b[0;34m(\u001b[0m\u001b[0mfail_count\u001b[0m\u001b[0;34m,\u001b[0m \u001b[0;34m\"fail\"\u001b[0m\u001b[0;34m)\u001b[0m\u001b[0;34m\u001b[0m\u001b[0;34m\u001b[0m\u001b[0m\n\u001b[1;32m     24\u001b[0m                     \u001b[0mfail_count\u001b[0m \u001b[0;34m+=\u001b[0m \u001b[0;36m1\u001b[0m\u001b[0;34m\u001b[0m\u001b[0;34m\u001b[0m\u001b[0m\n\u001b[0;32m---> 25\u001b[0;31m                     \u001b[0mtime\u001b[0m\u001b[0;34m.\u001b[0m\u001b[0msleep\u001b[0m\u001b[0;34m(\u001b[0m\u001b[0;36m1\u001b[0m\u001b[0;34m)\u001b[0m\u001b[0;34m\u001b[0m\u001b[0;34m\u001b[0m\u001b[0m\n\u001b[0m\u001b[1;32m     26\u001b[0m \u001b[0;34m\u001b[0m\u001b[0m\n\u001b[1;32m     27\u001b[0m                     \u001b[0;32mif\u001b[0m \u001b[0mfail_count\u001b[0m \u001b[0;34m==\u001b[0m \u001b[0;36m10\u001b[0m\u001b[0;34m:\u001b[0m\u001b[0;34m\u001b[0m\u001b[0;34m\u001b[0m\u001b[0m\n",
      "\u001b[0;31mKeyboardInterrupt\u001b[0m: "
     ]
    }
   ],
   "source": [
    "scrape_parralel_sents(user_profile, \"./data/paral_sents.txt\")"
   ]
  },
  {
   "cell_type": "code",
   "execution_count": null,
   "metadata": {},
   "outputs": [],
   "source": []
  }
 ],
 "metadata": {
  "kernelspec": {
   "display_name": "Python 3",
   "language": "python",
   "name": "python3"
  },
  "language_info": {
   "codemirror_mode": {
    "name": "ipython",
    "version": 3
   },
   "file_extension": ".py",
   "mimetype": "text/x-python",
   "name": "python",
   "nbconvert_exporter": "python",
   "pygments_lexer": "ipython3",
   "version": "3.7.9"
  }
 },
 "nbformat": 4,
 "nbformat_minor": 4
}
