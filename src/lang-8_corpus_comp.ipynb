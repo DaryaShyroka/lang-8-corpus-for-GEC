{
 "cells": [
  {
   "cell_type": "code",
   "execution_count": 5,
   "metadata": {},
   "outputs": [],
   "source": [
    "import pandas as pd\n",
    "import csv"
   ]
  },
  {
   "cell_type": "code",
   "execution_count": 12,
   "metadata": {},
   "outputs": [],
   "source": [
    "# extract source sentences from m2 file\n",
    "with open('data/lang8.train.auto.bea19.m2') as f:\n",
    "    for line in f:\n",
    "        if line.startswith(\"S \"):\n",
    "            processed = \" \".join(line.split()[1:])\n",
    "            with open('data/lang8_2019_corpus.csv', 'a') as fout:\n",
    "                writer = csv.writer(fout)\n",
    "                writer.writerow([processed])"
   ]
  },
  {
   "cell_type": "code",
   "execution_count": 13,
   "metadata": {},
   "outputs": [],
   "source": [
    "corpus_2020 = pd.read_csv('data/final_corpus.csv')\n",
    "corpus_2019 = pd.read_csv('data/lang8_2019_corpus.csv', names=[\"original\"])"
   ]
  },
  {
   "cell_type": "code",
   "execution_count": 20,
   "metadata": {},
   "outputs": [],
   "source": [
    "corpus_2019['proc'] = corpus_2019['original'].str.replace(' ', '')"
   ]
  },
  {
   "cell_type": "code",
   "execution_count": 23,
   "metadata": {},
   "outputs": [],
   "source": [
    "corpus_2020['proc'] = corpus_2020['original'].str.replace(' ', '')"
   ]
  },
  {
   "cell_type": "code",
   "execution_count": 28,
   "metadata": {},
   "outputs": [
    {
     "data": {
      "text/plain": [
       "2903"
      ]
     },
     "execution_count": 28,
     "metadata": {},
     "output_type": "execute_result"
    }
   ],
   "source": [
    "len(pd.merge(corpus_2019, corpus_2020, on='proc')['proc'].unique())"
   ]
  }
 ],
 "metadata": {
  "kernelspec": {
   "display_name": "Python 3",
   "language": "python",
   "name": "python3"
  },
  "language_info": {
   "codemirror_mode": {
    "name": "ipython",
    "version": 3
   },
   "file_extension": ".py",
   "mimetype": "text/x-python",
   "name": "python",
   "nbconvert_exporter": "python",
   "pygments_lexer": "ipython3",
   "version": "3.7.9"
  }
 },
 "nbformat": 4,
 "nbformat_minor": 4
}
