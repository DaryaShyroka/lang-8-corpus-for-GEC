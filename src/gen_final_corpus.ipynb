{
 "cells": [
  {
   "cell_type": "code",
   "execution_count": 2,
   "metadata": {},
   "outputs": [],
   "source": [
    "import csv"
   ]
  },
  {
   "cell_type": "code",
   "execution_count": 3,
   "metadata": {},
   "outputs": [],
   "source": [
    "# read from the result file agree/disagree\n",
    "agree_550 = []\n",
    "total_agree_550 = []\n",
    "corrected_550 = []\n",
    "result_file = 'data/AMT_Milestone3_results.csv'\n",
    "f = open(result_file)\n",
    "results_reader = csv.DictReader(f)\n",
    "for i, row in enumerate(results_reader):\n",
    "    corrected_550.append(row['corr'])\n",
    "    agree_550.append(row['agree'])  \n",
    "    total_agree_550.append(row['total agree'])\n",
    "f.close()  "
   ]
  },
  {
   "cell_type": "code",
   "execution_count": 7,
   "metadata": {},
   "outputs": [
    {
     "data": {
      "text/plain": [
       "['0', '1', '3', '3', '3', '3', '3', '2', '0', '1']"
      ]
     },
     "execution_count": 7,
     "metadata": {},
     "output_type": "execute_result"
    }
   ],
   "source": [
    "total_agree_550[:10]"
   ]
  },
  {
   "cell_type": "code",
   "execution_count": 9,
   "metadata": {},
   "outputs": [],
   "source": [
    "# generate the final corpus\n",
    "\n",
    "input_file = 'data/clean_paral_sents_copy.csv'\n",
    "output_file = 'data/final_corpus.csv'\n",
    "\n",
    "f = open(input_file)\n",
    "fout = open(output_file, 'w', encoding = 'utf-8')\n",
    "lang8reader = csv.DictReader(f)\n",
    "writer = csv.writer(fout, dialect = 'unix')\n",
    "writer.writerow(['id','user_id','doc_id','original','corrected','agree','total_agree'])\n",
    "for i, row in enumerate(lang8reader):\n",
    "    row_final = row['row_id']                      # contains the row number of the input file \n",
    "    user_id_final = row['user_id']\n",
    "    doc_id_final = row['doc_id']\n",
    "    original_final = row['original']\n",
    "    corrected_final = row['corrected']\n",
    "    if corrected_final in set(corrected_550):\n",
    "        idx = corrected_550.index(corrected_final)\n",
    "        agree_final = agree_550[idx]\n",
    "        total_agree_final = total_agree_550[idx]\n",
    "    else:\n",
    "        agree_final= None\n",
    "        total_agree_final = None    \n",
    "    writer.writerow([row_final, user_id_final, doc_id_final, original_final, corrected_final, agree_final, total_agree_final])       \n",
    "f.close()\n",
    "fout.close()"
   ]
  },
  {
   "cell_type": "code",
   "execution_count": null,
   "metadata": {},
   "outputs": [],
   "source": []
  }
 ],
 "metadata": {
  "kernelspec": {
   "display_name": "Python 3",
   "language": "python",
   "name": "python3"
  },
  "language_info": {
   "codemirror_mode": {
    "name": "ipython",
    "version": 3
   },
   "file_extension": ".py",
   "mimetype": "text/x-python",
   "name": "python",
   "nbconvert_exporter": "python",
   "pygments_lexer": "ipython3",
   "version": "3.8.3"
  }
 },
 "nbformat": 4,
 "nbformat_minor": 4
}
