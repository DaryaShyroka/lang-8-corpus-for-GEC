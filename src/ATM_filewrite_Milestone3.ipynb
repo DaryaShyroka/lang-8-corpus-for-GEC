{
 "cells": [
  {
   "cell_type": "code",
   "execution_count": 106,
   "metadata": {},
   "outputs": [],
   "source": [
    "# Please note that this is not for sandbox and pilot study.\n",
    "# For week 3, we will modify this code to be able to handle errors and more general cases.\n",
    "import numpy as np\n",
    "import csv\n",
    "\n",
    "user_id = []\n",
    "doc_id = []\n",
    "original = []\n",
    "corrected = []\n",
    "file_row = []\n",
    "\n",
    "# read raw sentences from a preliminary corpus file. \n",
    "input_file = 'data/unannotated_sents.csv'\n",
    "f = open(input_file)\n",
    "lang8reader = csv.DictReader(f)\n",
    "for i, row in enumerate(lang8reader):\n",
    "    if np.abs(len(row['original']) - len(row['corrected'])) < 10 and '*' not in row['corrected'] and len(row['corrected'].split()) > 10:\n",
    "        file_row.append(i)                      # contains the row number of the input file \n",
    "        user_id.append(row['user_id'])\n",
    "        doc_id.append(row['doc_id'])\n",
    "        original.append(row['original'])\n",
    "        corrected.append(row['corrected'])\n",
    "f.close()\n",
    "\n",
    "f = open(input_file)\n",
    "f.readline()\n",
    "lines = f.readlines()\n",
    "f.close()"
   ]
  },
  {
   "cell_type": "code",
   "execution_count": 116,
   "metadata": {},
   "outputs": [],
   "source": [
    "# sort by the length of the corrected sentences \n",
    "\n",
    "sort_index = sorted(range(len(corrected)), key=lambda k: len(corrected[k]))"
   ]
  },
  {
   "cell_type": "code",
   "execution_count": 117,
   "metadata": {},
   "outputs": [],
   "source": [
    "# get 550 longest sentences\n",
    "\n",
    "sentences_index_550 = sort_index[:-550]\n",
    "sentences_index_550 = sentences_index_550[::-1]"
   ]
  },
  {
   "cell_type": "code",
   "execution_count": 118,
   "metadata": {},
   "outputs": [
    {
     "data": {
      "text/plain": [
       "[3927, 3762, 3744, 61, 31409]"
      ]
     },
     "execution_count": 118,
     "metadata": {},
     "output_type": "execute_result"
    }
   ],
   "source": [
    "sentences_index_550[:5]"
   ]
  },
  {
   "cell_type": "code",
   "execution_count": 120,
   "metadata": {},
   "outputs": [],
   "source": [
    "user_550 = []\n",
    "doc_550 = []\n",
    "original_550 = []\n",
    "corrected_550 = []\n",
    "\n",
    "for idx in sentences_index_550:\n",
    "    user_550.append(user_id[idx])\n",
    "    doc_550.append(doc_id[idx])\n",
    "    original_550.append(original[idx])\n",
    "    corrected_550.append(corrected[idx])"
   ]
  },
  {
   "cell_type": "code",
   "execution_count": 121,
   "metadata": {},
   "outputs": [
    {
     "name": "stdout",
     "output_type": "stream",
     "text": [
      "1552546,228529401510398295439370434580073286221,Utterson is really worried about Jekyll so he decided to visit Jekyll but he is not at home and at this moment Poole tells to the lawyer that Hyde has a key for the lavatory and that the servants had to obey to Hyde.,Utterson is really worried about Jekyll so he decided to visit Jekyll but he is not at home and at this moment Poole tells the lawyer that Hyde has a key for the lavatory and that the servants had to obey Hyde.\n",
      "\n",
      "1552546\n",
      "228529401510398295439370434580073286221\n",
      "Utterson is really worried about Jekyll so he decided to visit Jekyll but he is not at home and at this moment Poole tells to the lawyer that Hyde has a key for the lavatory and that the servants had to obey to Hyde.\n",
      "Utterson is really worried about Jekyll so he decided to visit Jekyll but he is not at home and at this moment Poole tells the lawyer that Hyde has a key for the lavatory and that the servants had to obey Hyde.\n",
      "\n",
      "\n",
      "337776,205802434485227789747646506865722854203,\"My English teachers in primary school or even in senior high didn't spend much time teaching us pronunciation.(Actually they simply reckon grammar the most important part in English learning, while I don't think so)\",\"My English teachers in primary school or even in high school didn't spend much time teaching us pronunciation.( they  thought that grammar is the most important part of English learning, while I don't think so)\"\n",
      "\n",
      "337776\n",
      "205802434485227789747646506865722854203\n",
      "My English teachers in primary school or even in senior high didn't spend much time teaching us pronunciation.(Actually they simply reckon grammar the most important part in English learning, while I don't think so)\n",
      "My English teachers in primary school or even in high school didn't spend much time teaching us pronunciation.( they  thought that grammar is the most important part of English learning, while I don't think so)\n",
      "\n",
      "\n",
      "337776,252898681647313682507037121299255887782,\"Compared to working hard to learn a language that I probably won't get any chance to use in the future, I prefer to playing games, which can give me a sense of excitement in a comparatively short time.\",\"Compared to working hard to learn a language that I probably won't get any chance to use in the future, I prefer playing games, which can give me a sense of excitement in a comparatively shorter amount of time.\"\n",
      "\n",
      "337776\n",
      "252898681647313682507037121299255887782\n",
      "Compared to working hard to learn a language that I probably won't get any chance to use in the future, I prefer to playing games, which can give me a sense of excitement in a comparatively short time.\n",
      "Compared to working hard to learn a language that I probably won't get any chance to use in the future, I prefer playing games, which can give me a sense of excitement in a comparatively shorter amount of time.\n",
      "\n",
      "\n",
      "905009,144034914011022270417791546071360889685,\"For ordinary customers, it is not easy to discern between a cold and the flu, therefore it is better to suggest drugs consisted of only acetaminophen or crude medicine materials especially during the flu season.\",\"For ordinary customers, it is not easy to tell the difference between a cold and the flu, so it is better to suggest drugs consisting only of acetaminophen or natural remedies, especially during the flu season.\"\n",
      "\n",
      "905009\n",
      "144034914011022270417791546071360889685\n",
      "For ordinary customers, it is not easy to discern between a cold and the flu, therefore it is better to suggest drugs consisted of only acetaminophen or crude medicine materials especially during the flu season.\n",
      "For ordinary customers, it is not easy to tell the difference between a cold and the flu, so it is better to suggest drugs consisting only of acetaminophen or natural remedies, especially during the flu season.\n",
      "\n",
      "\n",
      "892789,35619139520254737284944152836730851066,\"AS you know, I am currently discussing job applications with our university employment center staff but I wanted to ask if I could schedule an appointment to hear about the music industry and your take on it.\",\"As you know, I am currently discussing job applications with our university employment center staff, but I wanted to ask if I could schedule an appointment to hear about the music industry and your take on it.\"\n",
      "\n",
      "892789\n",
      "35619139520254737284944152836730851066\n",
      "AS you know, I am currently discussing job applications with our university employment center staff but I wanted to ask if I could schedule an appointment to hear about the music industry and your take on it.\n",
      "As you know, I am currently discussing job applications with our university employment center staff, but I wanted to ask if I could schedule an appointment to hear about the music industry and your take on it.\n",
      "\n",
      "\n",
      "1445993,203767320060102064743641603187170640942,\"In conclusion, I think that long-term traffic and pollution reductions would depend on education the public to use public transport more, and on governments using public money to construct and run efficient system.\",\"In conclusion, I think that long-term traffic and pollution reduction  depends on educating the public to use public transport more and on governments using public money to construct and run efficient systems.\"\n",
      "\n",
      "1445993\n",
      "203767320060102064743641603187170640942\n",
      "In conclusion, I think that long-term traffic and pollution reductions would depend on education the public to use public transport more, and on governments using public money to construct and run efficient system.\n",
      "In conclusion, I think that long-term traffic and pollution reduction  depends on educating the public to use public transport more and on governments using public money to construct and run efficient systems.\n",
      "\n",
      "\n",
      "1462681,252332236190567725885092686616067815331,And the fact that the queen herself remains tight-lipped when the song is sung shows clearly to me that it is really a song to be sung in honour of the majesty rather than for those that make up Great Britain.,And the fact that the Queen herself remains tight-lipped when the song is sung shows clearly to me that it is really a song to be sung in honour of the majesty rather than for those that make up Great Britain.\n",
      "\n",
      "1462681\n",
      "252332236190567725885092686616067815331\n",
      "And the fact that the queen herself remains tight-lipped when the song is sung shows clearly to me that it is really a song to be sung in honour of the majesty rather than for those that make up Great Britain.\n",
      "And the fact that the Queen herself remains tight-lipped when the song is sung shows clearly to me that it is really a song to be sung in honour of the majesty rather than for those that make up Great Britain.\n",
      "\n",
      "\n",
      "644583,313290715485195189805105305131628739075,\"This time it was easier to find help, a protection agent that watched the videos called and asked her to download the video because by watching this videos the hunters will know easily where the nests are located.\",\"This time it was easier to find help, and a protection agent that watched the videos called and asked her to remove the video because by watching it, the hunters would easily know where the nests were located.\"\n",
      "\n",
      "644583\n",
      "313290715485195189805105305131628739075\n",
      "This time it was easier to find help, a protection agent that watched the videos called and asked her to download the video because by watching this videos the hunters will know easily where the nests are located.\n",
      "This time it was easier to find help, and a protection agent that watched the videos called and asked her to remove the video because by watching it, the hunters would easily know where the nests were located.\n",
      "\n",
      "\n",
      "1810466,243088492527895958646173344837428185677,These days many women choose themselves to be out of the house and work rather than being a housewife and this social phenomenon is not temporary but will be increasing as a result of progressed gender equality.,\"These days many women make an independen choice to be out of the house and working, rather than being a housewife. This social phenomenon is not temporary and will only increase as gender equality progresses. \"\n",
      "\n",
      "1810466\n",
      "243088492527895958646173344837428185677\n",
      "These days many women choose themselves to be out of the house and work rather than being a housewife and this social phenomenon is not temporary but will be increasing as a result of progressed gender equality.\n",
      "These days many women make an independen choice to be out of the house and working, rather than being a housewife. This social phenomenon is not temporary and will only increase as gender equality progresses. \n",
      "\n",
      "\n",
      "654264,312094392258112106018394865660293548064,\"I just read the index section of this book, and now I feel this could be a life-changing book; because I feel like I have been sticking to a mediocre way to study, and it will definitely yield an adverse effect.\",\"I have just read the index section of this book, and I feel this could be a life-changing book; because I feel I have been sticking to a mediocre way to study, and that will definitely yield an adverse effect.\"\n",
      "\n",
      "654264\n",
      "312094392258112106018394865660293548064\n",
      "I just read the index section of this book, and now I feel this could be a life-changing book; because I feel like I have been sticking to a mediocre way to study, and it will definitely yield an adverse effect.\n",
      "I have just read the index section of this book, and I feel this could be a life-changing book; because I feel I have been sticking to a mediocre way to study, and that will definitely yield an adverse effect.\n",
      "\n",
      "\n",
      "1278665,243987775738391070543626612130439367245,\"Finally yesterday I had interview in English and I think that I wasn't good although I was accepted into volunteering, I'm very happy because I will help a lot of children and this is very gratify for me.\",\"Finally, yesterday I had an interview in English. I don't think that I was good, although I was accepted as a volunteer. I'm very happy because I will help a lot of children and this is very gratifying for me.\"\n",
      "\n",
      "1278665\n",
      "243987775738391070543626612130439367245\n",
      "Finally yesterday I had interview in English and I think that I wasn't good although I was accepted into volunteering, I'm very happy because I will help a lot of children and this is very gratify for me.\n",
      "Finally, yesterday I had an interview in English. I don't think that I was good, although I was accepted as a volunteer. I'm very happy because I will help a lot of children and this is very gratifying for me.\n",
      "\n",
      "\n"
     ]
    }
   ],
   "source": [
    "# check\n",
    "for i, idx in enumerate(sentences_index_550):\n",
    "    print(lines[file_row[idx]])\n",
    "    print(user_550[i])\n",
    "    print(doc_550[i])\n",
    "    print(original_550[i])\n",
    "    print(corrected_550[i])\n",
    "    print('\\n')\n",
    "    if i == 5:\n",
    "        break\n",
    "    "
   ]
  },
  {
   "cell_type": "code",
   "execution_count": 122,
   "metadata": {},
   "outputs": [],
   "source": [
    "# write to a csv file \n",
    "output_file = 'data/AMT_Milestone3.csv'\n",
    "fout = open(output_file, 'w', encoding = 'utf-8')\n",
    "writer = csv.writer(fout, dialect = 'unix')\n",
    "writer.writerow(['orig', 'corr'])\n",
    "for i in range(550):\n",
    "    orig_sent = original_550[i]\n",
    "    corr_sent = corrected_550[i]\n",
    "    writer.writerow([orig_sent, corr_sent])\n",
    "fout.close()"
   ]
  }
 ],
 "metadata": {
  "kernelspec": {
   "display_name": "Python 3",
   "language": "python",
   "name": "python3"
  },
  "language_info": {
   "codemirror_mode": {
    "name": "ipython",
    "version": 3
   },
   "file_extension": ".py",
   "mimetype": "text/x-python",
   "name": "python",
   "nbconvert_exporter": "python",
   "pygments_lexer": "ipython3",
   "version": "3.8.3"
  }
 },
 "nbformat": 4,
 "nbformat_minor": 4
}
