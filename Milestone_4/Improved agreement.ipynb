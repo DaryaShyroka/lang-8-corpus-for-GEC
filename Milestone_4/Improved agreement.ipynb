{
 "cells": [
  {
   "cell_type": "markdown",
   "metadata": {},
   "source": [
    "I used this code to generate sentences that I sent to our additional annotator. The idea was to replace annotations given to us by the bad annotator with Worker ID 'AJ9O2ZA0E8UDZ'."
   ]
  },
  {
   "cell_type": "code",
   "execution_count": 18,
   "metadata": {},
   "outputs": [
    {
     "data": {
      "text/html": [
       "<div>\n",
       "<style scoped>\n",
       "    .dataframe tbody tr th:only-of-type {\n",
       "        vertical-align: middle;\n",
       "    }\n",
       "\n",
       "    .dataframe tbody tr th {\n",
       "        vertical-align: top;\n",
       "    }\n",
       "\n",
       "    .dataframe thead th {\n",
       "        text-align: right;\n",
       "    }\n",
       "</style>\n",
       "<table border=\"1\" class=\"dataframe\">\n",
       "  <thead>\n",
       "    <tr style=\"text-align: right;\">\n",
       "      <th></th>\n",
       "      <th>Original</th>\n",
       "      <th>Corrected</th>\n",
       "    </tr>\n",
       "  </thead>\n",
       "  <tbody>\n",
       "    <tr>\n",
       "      <th>19</th>\n",
       "      <td>And the fact that the queen herself remains ti...</td>\n",
       "      <td>And the fact that the Queen herself remains ti...</td>\n",
       "    </tr>\n",
       "    <tr>\n",
       "      <th>23</th>\n",
       "      <td>This time it was easier to find help, a protec...</td>\n",
       "      <td>This time it was easier to find help, and a pr...</td>\n",
       "    </tr>\n",
       "    <tr>\n",
       "      <th>27</th>\n",
       "      <td>People have their doubts deciphered by prophet...</td>\n",
       "      <td>People have their doubts deciphered by prophet...</td>\n",
       "    </tr>\n",
       "    <tr>\n",
       "      <th>35</th>\n",
       "      <td>Sa Dec is a symbolism of fairy land in Viet Na...</td>\n",
       "      <td>Sa Dec is symbolized as a fairy land in Viet N...</td>\n",
       "    </tr>\n",
       "    <tr>\n",
       "      <th>42</th>\n",
       "      <td>Finally yesterday I had interview in English a...</td>\n",
       "      <td>Finally, yesterday I had an interview in Engli...</td>\n",
       "    </tr>\n",
       "    <tr>\n",
       "      <th>...</th>\n",
       "      <td>...</td>\n",
       "      <td>...</td>\n",
       "    </tr>\n",
       "    <tr>\n",
       "      <th>1631</th>\n",
       "      <td>About the argument of how much it would help u...</td>\n",
       "      <td>About the argument of how much it would help u...</td>\n",
       "    </tr>\n",
       "    <tr>\n",
       "      <th>1637</th>\n",
       "      <td>Souza began making comic strips for newspapers...</td>\n",
       "      <td>Souza began making comic strips for newspapers...</td>\n",
       "    </tr>\n",
       "    <tr>\n",
       "      <th>1639</th>\n",
       "      <td>Yesterday I spent about 20 minutes to correct ...</td>\n",
       "      <td>Yesterday I spent about 20 minutes  correcting...</td>\n",
       "    </tr>\n",
       "    <tr>\n",
       "      <th>1642</th>\n",
       "      <td>People tend to go to foreign capital company w...</td>\n",
       "      <td>People tend to go to foreign capital companies...</td>\n",
       "    </tr>\n",
       "    <tr>\n",
       "      <th>1644</th>\n",
       "      <td>My role is creating wireframe and mockup, maki...</td>\n",
       "      <td>My role is to create wireframes and mockups, m...</td>\n",
       "    </tr>\n",
       "  </tbody>\n",
       "</table>\n",
       "<p>210 rows × 2 columns</p>\n",
       "</div>"
      ],
      "text/plain": [
       "                                               Original  \\\n",
       "19    And the fact that the queen herself remains ti...   \n",
       "23    This time it was easier to find help, a protec...   \n",
       "27    People have their doubts deciphered by prophet...   \n",
       "35    Sa Dec is a symbolism of fairy land in Viet Na...   \n",
       "42    Finally yesterday I had interview in English a...   \n",
       "...                                                 ...   \n",
       "1631  About the argument of how much it would help u...   \n",
       "1637  Souza began making comic strips for newspapers...   \n",
       "1639  Yesterday I spent about 20 minutes to correct ...   \n",
       "1642  People tend to go to foreign capital company w...   \n",
       "1644  My role is creating wireframe and mockup, maki...   \n",
       "\n",
       "                                              Corrected  \n",
       "19    And the fact that the Queen herself remains ti...  \n",
       "23    This time it was easier to find help, and a pr...  \n",
       "27    People have their doubts deciphered by prophet...  \n",
       "35    Sa Dec is symbolized as a fairy land in Viet N...  \n",
       "42    Finally, yesterday I had an interview in Engli...  \n",
       "...                                                 ...  \n",
       "1631  About the argument of how much it would help u...  \n",
       "1637  Souza began making comic strips for newspapers...  \n",
       "1639  Yesterday I spent about 20 minutes  correcting...  \n",
       "1642  People tend to go to foreign capital companies...  \n",
       "1644  My role is to create wireframes and mockups, m...  \n",
       "\n",
       "[210 rows x 2 columns]"
      ]
     },
     "execution_count": 18,
     "metadata": {},
     "output_type": "execute_result"
    }
   ],
   "source": [
    "import pandas as pd\n",
    "\n",
    "annotations_df = pd.read_csv(\"annotations.csv\")\n",
    "original_corrected_df = annotations_df.iloc[:,[15,27, 28]]\n",
    "original_corrected_df = original_corrected_df.rename(columns={\"Input.orig\": \"Original\", \"Input.corr\": \"Corrected\"})\n",
    "original_corrected_df = original_corrected_df.loc[original_corrected_df['WorkerId'] == 'AJ9O2ZA0E8UDZ'].iloc[:,[1,2]]\n",
    "original_corrected_df.to_csv(\"original_corrected.csv\", index=False)\n",
    "original_corrected_df"
   ]
  },
  {
   "cell_type": "markdown",
   "metadata": {},
   "source": [
    "Below, I read in the file the annotator sent me back. They completed 99 out of 210 sentences that were sent, so I will be replacing those with the new annotations. As we can see from the output below, the classes are balanced with 50 'Yes' and 49 'No'."
   ]
  },
  {
   "cell_type": "code",
   "execution_count": 121,
   "metadata": {},
   "outputs": [
    {
     "data": {
      "text/plain": [
       "Yes    50\n",
       "No     49\n",
       "Name: label, dtype: int64"
      ]
     },
     "execution_count": 121,
     "metadata": {},
     "output_type": "execute_result"
    }
   ],
   "source": [
    "import pandas as pd\n",
    "oc_max_df = pd.read_csv(\"original_corrected_max.csv\")\n",
    "oc_max_df = oc_max_df.loc[:, [\"Original\", \"Corrected\", \"label\"]].iloc[:99]\n",
    "oc_max_df.loc[oc_max_df['label'] == 'no','label'] = 'No'\n",
    "oc_max_df.loc[oc_max_df['label']== 'no ','label'] = 'No'\n",
    "oc_max_df.loc[oc_max_df['label'] == 'yes','label'] = 'Yes'\n",
    "oc_max_df.loc[oc_max_df['label'] == 'yes ','label'] = 'Yes'\n",
    "oc_max_df['label'].value_counts()"
   ]
  },
  {
   "cell_type": "markdown",
   "metadata": {},
   "source": [
    "I read in the original dataset. As we can see, the annotations by the bad annotator have severe class imbalance - 98 'Yes' and 1 'No'. Replacing these by a more balanced set of annotations might improve agreement."
   ]
  },
  {
   "cell_type": "code",
   "execution_count": 157,
   "metadata": {},
   "outputs": [
    {
     "data": {
      "text/plain": [
       "Yes    98\n",
       "No      1\n",
       "Name: Answer.grammar-correction.label, dtype: int64"
      ]
     },
     "execution_count": 157,
     "metadata": {},
     "output_type": "execute_result"
    }
   ],
   "source": [
    "annotations_df = pd.read_csv(\"annotations.csv\")\n",
    "oc_max_df = oc_max_df.rename(columns={\"Original\": \"Input.orig\", \"label\": \"Maxs_Label\"})\n",
    "first_100_orig = annotations_df.loc[annotations_df['WorkerId'] == 'AJ9O2ZA0E8UDZ'].iloc[:99]\n",
    "first_100_orig['Answer.grammar-correction.label'].value_counts()"
   ]
  },
  {
   "cell_type": "markdown",
   "metadata": {},
   "source": [
    "I replace the 99 annotations:"
   ]
  },
  {
   "cell_type": "code",
   "execution_count": 166,
   "metadata": {},
   "outputs": [],
   "source": [
    "first_100_orig[\"Maxs_Label\"] = oc_max_df['Maxs_Label'].values\n",
    "first_100_orig = first_100_orig.rename(columns={'Answer.grammar-correction.label':'old_label', 'Maxs_Label':'Answer.grammar-correction.label'})\n",
    "\n",
    "for index, row in annotations_df.iterrows():\n",
    "    if index > 939:\n",
    "        break\n",
    "    if row['WorkerId'] == 'AJ9O2ZA0E8UDZ':\n",
    "        annotations_df.loc[index, \"WorkerId\"] = 'Max'\n",
    "        annotations_df.loc[index, 'Answer.grammar-correction.label'] = first_100_orig.loc[index]['Answer.grammar-correction.label']\n",
    "\n",
    "\n",
    "annotations_df.to_csv(\"annotations_w_max.csv\", index=False)"
   ]
  },
  {
   "cell_type": "markdown",
   "metadata": {},
   "source": [
    "To check that everything worked correctly:"
   ]
  },
  {
   "cell_type": "code",
   "execution_count": 167,
   "metadata": {},
   "outputs": [
    {
     "data": {
      "text/plain": [
       "Yes    50\n",
       "No     49\n",
       "Name: Answer.grammar-correction.label, dtype: int64"
      ]
     },
     "execution_count": 167,
     "metadata": {},
     "output_type": "execute_result"
    }
   ],
   "source": [
    "annotations_df.loc[annotations_df['WorkerId']=='Max', 'Answer.grammar-correction.label'].value_counts()"
   ]
  },
  {
   "cell_type": "markdown",
   "metadata": {},
   "source": [
    "Now we test the interannotator agreement (code from Milestone 3):"
   ]
  },
  {
   "cell_type": "code",
   "execution_count": 170,
   "metadata": {},
   "outputs": [
    {
     "name": "stdout",
     "output_type": "stream",
     "text": [
      "Previous Pi agreement measure:  10.504105963138553\n",
      "Improved Pi agreement measure:  13.134904126167681\n"
     ]
    }
   ],
   "source": [
    "import nltk\n",
    "from nltk.metrics.agreement import AnnotationTask\n",
    "\n",
    "def convert_to_tuples(annotations_list):\n",
    "    # We need to have (Annotator, Sentence, Yes/No) triples\n",
    "    triple_list = []\n",
    "    for (index, (workers_list, label_list)) in enumerate(annotations_list):\n",
    "        for i in range(len(label_list)):\n",
    "            triple_list.append((workers_list[i], str(index),label_list[i]))\n",
    "    \n",
    "    return triple_list\n",
    "\n",
    "\n",
    "annotations_df = pd.read_csv(\"annotations.csv\")\n",
    "hit_id_annotation_df = annotations_df.iloc[:,[0,15,29]]\n",
    "hit_id_annotation_df = hit_id_annotation_df.rename(columns={\"Answer.grammar-correction.label\": \"Label\"})\n",
    "hit_id_annotation_df = hit_id_annotation_df.groupby('HITId').agg(lambda x: x.tolist())\n",
    "list_df = hit_id_annotation_df.values.tolist()\n",
    "\n",
    "annotations_max_df = pd.read_csv(\"annotations_w_max.csv\")\n",
    "hit_id_annotation_df = annotations_max_df.iloc[:,[0,15,29]]\n",
    "hit_id_annotation_df = hit_id_annotation_df.rename(columns={\"Answer.grammar-correction.label\": \"Label\"})\n",
    "hit_id_annotation_df = hit_id_annotation_df.groupby('HITId').agg(lambda x: x.tolist())\n",
    "list_df_max = hit_id_annotation_df.values.tolist()\n",
    "\n",
    "triples = convert_to_tuples(list_df)\n",
    "\n",
    "trips = []\n",
    "for i, triple in enumerate(triples):\n",
    "    triple = (\"annotator\"+str(i % 3), triple[1], triple[2])\n",
    "    trips.append(triple)\n",
    "    \n",
    "triples = convert_to_tuples(list_df_max)\n",
    "\n",
    "trips_max = []\n",
    "for i, triple in enumerate(triples):\n",
    "    triple = (\"annotator\"+str(i % 3), triple[1], triple[2])\n",
    "    trips_max.append(triple)\n",
    "    \n",
    "annotation_task = AnnotationTask(trips)\n",
    "\n",
    "print(\"Previous Pi agreement measure: \", annotation_task.pi()*100)\n",
    "\n",
    "annotation_task_max = AnnotationTask(trips_max)\n",
    "\n",
    "print(\"Improved Pi agreement measure: \", annotation_task_max.pi()*100)"
   ]
  },
  {
   "cell_type": "markdown",
   "metadata": {},
   "source": [
    "As we can see, the annotator improved our agreement to 13.1% from 10.5%!"
   ]
  },
  {
   "cell_type": "code",
   "execution_count": null,
   "metadata": {},
   "outputs": [],
   "source": []
  }
 ],
 "metadata": {
  "kernelspec": {
   "display_name": "Python 3",
   "language": "python",
   "name": "python3"
  },
  "language_info": {
   "codemirror_mode": {
    "name": "ipython",
    "version": 3
   },
   "file_extension": ".py",
   "mimetype": "text/x-python",
   "name": "python",
   "nbconvert_exporter": "python",
   "pygments_lexer": "ipython3",
   "version": "3.8.3"
  }
 },
 "nbformat": 4,
 "nbformat_minor": 4
}
