{
 "cells": [
  {
   "cell_type": "code",
   "execution_count": 1,
   "metadata": {},
   "outputs": [],
   "source": [
    "from bs4 import BeautifulSoup\n",
    "import bs4\n",
    "from urllib.request import urlopen\n",
    "from collections import defaultdict"
   ]
  },
  {
   "cell_type": "code",
   "execution_count": 8,
   "metadata": {},
   "outputs": [],
   "source": [
    "def get_corrections(soup):\n",
    "    comments_field = soup.find(\"div\", {\"id\": \"comments_and_corrections_field\"})\n",
    "    return comments_field.find_all(\"div\", {\"class\": \"correction_box\"})"
   ]
  },
  {
   "cell_type": "code",
   "execution_count": 9,
   "metadata": {},
   "outputs": [],
   "source": [
    "def get_corrected_sentence(p):\n",
    "    if not p.find(\"span\", {\"class\": \"sline\"}):\n",
    "        return p.get_text().strip()\n",
    "    else:\n",
    "        sent = \"\"\n",
    "        for comp in p.children:\n",
    "            if type(comp) == bs4.element.NavigableString:\n",
    "                sent += comp\n",
    "            else:\n",
    "                if not comp.find(\"span\", {\"class\": \"sline\"}):\n",
    "                    sent += comp.get_text().strip()\n",
    "        return sent"
   ]
  },
  {
   "cell_type": "code",
   "execution_count": 10,
   "metadata": {},
   "outputs": [],
   "source": [
    "def get_pair_sents(corrections):\n",
    "    pair_sents = defaultdict(list)\n",
    "    for cor in corrections:\n",
    "        ref = cor.find(\"li\", {\"class\": \"corrected correct\"})\n",
    "        if ref:\n",
    "            org = cor.find(\"li\", {\"class\": \"incorrect\"}).get_text()\n",
    "            ref = get_corrected_sentence(ref.find(\"p\"))\n",
    "            pair_sents[org].append(ref)\n",
    "    return pair_sents"
   ]
  },
  {
   "cell_type": "code",
   "execution_count": 15,
   "metadata": {},
   "outputs": [],
   "source": [
    "def download_parallel_sents(journal_id): \n",
    "    print(f\"{'*'*20} {journal_id} {'*'*20}\")\n",
    "    url = f\"https://lang-8.com/256735/journals/{journal_id}\"\n",
    "    soup = BeautifulSoup(urlopen(url), \"html.parser\")\n",
    "    corrections = get_corrections(soup)\n",
    "    return get_pair_sents(corrections)"
   ]
  },
  {
   "cell_type": "code",
   "execution_count": 16,
   "metadata": {},
   "outputs": [
    {
     "name": "stdout",
     "output_type": "stream",
     "text": [
      "******************** 157470523741257021141724101236015610371 ********************\n"
     ]
    },
    {
     "data": {
      "text/plain": [
       "defaultdict(list,\n",
       "            {'Not a few athletes, however, may not be able to set foot on Japan’s soil.': ['A few athletes, however, may not be able to set foot on Japanese soil.'],\n",
       "             'What matters is whether holding the games under the condition will still be worthwhile or not.': ['What matters is whether holding the games under these conditions will  be worthwhile or not.',\n",
       "              'What matters is whether holding the games under these conditions will still be worthwhile or not.'],\n",
       "             'Not a few athletes, however, must not be able to set foot on Japan’s soil.': ['Only a few athletes, however, would be able to set foot on Japan’s soil.']})"
      ]
     },
     "execution_count": 16,
     "metadata": {},
     "output_type": "execute_result"
    }
   ],
   "source": [
    "download_parallel_sents(\"157470523741257021141724101236015610371\")"
   ]
  }
 ],
 "metadata": {
  "kernelspec": {
   "display_name": "Python 3",
   "language": "python",
   "name": "python3"
  },
  "language_info": {
   "codemirror_mode": {
    "name": "ipython",
    "version": 3
   },
   "file_extension": ".py",
   "mimetype": "text/x-python",
   "name": "python",
   "nbconvert_exporter": "python",
   "pygments_lexer": "ipython3",
   "version": "3.7.9"
  }
 },
 "nbformat": 4,
 "nbformat_minor": 4
}
