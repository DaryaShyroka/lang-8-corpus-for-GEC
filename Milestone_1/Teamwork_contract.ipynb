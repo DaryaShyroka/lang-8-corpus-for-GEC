{
 "cells": [
  {
   "cell_type": "markdown",
   "metadata": {},
   "source": [
    "### **Teamwork Contract**\n",
    "\n",
    "1. We will meet up 2-3 times per week. We will tentatively set Monday, Thursday, and Friday as meeting days. We have the mentor meeting at 1:30 p.m. PST on Tuesday and the team meeting at 2 - 4 p.m. PST on Mondays and 8 a.m. - 9 a.m. PST on Thursdays.  During the first meeting of the week, we will break up the milestone tasks and divide up the work amongst team members. In subsequent meetings, we will discuss our progress our individual tasks and ideas for future work.\n",
    "2. We will work on the project for about 8-10 hours per week, provided that that time is enough to get everything done.\n",
    "3. We will discuss our progress during the meeting and will notify team members of any areas we need discussion through the slack channel. \n",
    "4. The code of conduct below will be followed throughout this project:\n",
    "\n",
    "    #### **Code of Conduct**\n",
    "    1. We will not be late to team meetings. 15+ minutes is not acceptable.\n",
    "    2. Response time: We will respond or put a checkmark within 24 hours.\n",
    "    3. Urgent messages: We will write `urgent` in the message, “respond within X please”.\n",
    "    4. If a milestone is incomplete, we should all be online trying to finish it. Personal deadline: Saturday, 7pm PST.\n",
    "    5. If stuck on something for more than 12 hours, we will message in Slack and bring it up during a meeting. We will not leave things until Saturday.\n",
    "    6. Work will be divided as equally as possible among group members.\n",
    "    7. We respect one another’s work. If we would like to offer help to another member of the team, we will contact the member privately and offer help. We will not work on another person’s responsibility without his / her permission unless the deadline is very close and the person is unavailable. \n",
    "    8. In communication, we thank and acknowledge another member’s work before we make recommendations to change or to improve. \n",
    "    9. Everyone is given an opportunity to speak and explain his / her ideas and opinion. No one will be ignored or excluded in deciding major decisions related to the group project. \n",
    "\n",
    "\n",
    "5. As we complete our individual tasks, each team member will write down the tasks they have completed. This will be used for the teamwork report later.\n",
    "\n",
    "6. Christina will be the project manager. She will be in charge of writing summaries after meetings and will follow up with each member on the progress of the project as necessary. She will also keep a project journal so that everyone is aware of the tasks of the week and the member responsible for the task. \n",
    "\n",
    "7.  We will use individual branches to commit and push our work to the group's GitHub repository.\n",
    "8. We will maintain a reference document with useful information about the project.\n",
    "9. We will regularly update our code on Deepnote so that other group members can see each other’s work.\n",
    "10. We will divide each milestone to sub-tasks and have a leader for each sub-task. If possible, we will try to alternate the lead role so that the work can be equally divided.  \n",
    "\n",
    "\n",
    "Times team members are not available:\n",
    "\n",
    "- Christina: Saturday mornings from 7am-10am PST, Sundays, 7pm PST\n",
    "- Darya: labs and lecture times, after 8pm PST, Sundays\n",
    "- Jeremy: labs and lecture times, Sundays\n",
    "- Ali: labs and lecture times, Sundays, after 9pm PST. Online hours: 9am-9pm PST\n"
   ]
  },
  {
   "cell_type": "code",
   "execution_count": null,
   "metadata": {},
   "outputs": [],
   "source": []
  }
 ],
 "metadata": {
  "kernelspec": {
   "display_name": "Python 3",
   "language": "python",
   "name": "python3"
  },
  "language_info": {
   "codemirror_mode": {
    "name": "ipython",
    "version": 3
   },
   "file_extension": ".py",
   "mimetype": "text/x-python",
   "name": "python",
   "nbconvert_exporter": "python",
   "pygments_lexer": "ipython3",
   "version": "3.8.3"
  }
 },
 "nbformat": 4,
 "nbformat_minor": 4
}
