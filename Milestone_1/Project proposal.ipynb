{
 "cells": [
  {
   "cell_type": "markdown",
   "metadata": {},
   "source": [
    "### Project Proposal\n",
    "\n",
    "The corpus we intend to build will be a corpus of sentences written by English language learners to practice their English language skills. The source of this data will be Lang-8, https://lang-8.com/ . The texts are written somewhere between a consultative and casual register, since they are less formal than an essay, but more formal than a text message to a friend. The topics of the texts vary, as their main purpose was to give the learner practice with the language. \n",
    "\n",
    "We do not anticipate difficulties in filtering these texts from the website, as these sentences are usually tagged with special labels. We plan to collect the original sentences and the corresponding corrected sentences, and if the corrected sentence is not available, we will correct it ourselves as part of the annotation. We will run the original and corrected sentences through ERRANT (grammatical ERRor ANnotation Toolkit, https://github.com/chrisjbryant/errant) which will give us the type of errors made in the sentence, such as Subject-Verb Agreement, Missing Subject, and so on. We will check the output of ERRANT to make sure that it is correct, and correct it as needed. Thus, the annotations in this corpus will be the correction and classification of any errors present.We will also have associated user metadata for each sentence, including the website user ID, the location of the writer (country, region, city), their native language, personal information such as age and sex, and membership information such as when they joined lang-8 and how often they use the webiste.\n",
    "The corpus will be stored in text format, with each sentence a .txt file.\n",
    "\n",
    "This corpus could be used to do research on language learning. For example, it could be used to determine the kinds of errors that are common among language learners at different levels of learning. Are the kinds of errors learners make random, or do they follow a pattern? If there is a pattern, this kind of data could be used to adjust lesson plans by teachers, to place more emphasis on common mistakes and how to avoid them. Additionally, this corpus could be used for machine learning. For example, the data could be used as the gold standard to train an automatic sentence correction system.\n",
    "\n",
    "\n",
    "\n"
   ]
  }
 ],
 "metadata": {
  "kernelspec": {
   "display_name": "Python 3",
   "language": "python",
   "name": "python3"
  },
  "language_info": {
   "codemirror_mode": {
    "name": "ipython",
    "version": 3
   },
   "file_extension": ".py",
   "mimetype": "text/x-python",
   "name": "python",
   "nbconvert_exporter": "python",
   "pygments_lexer": "ipython3",
   "version": "3.8.3"
  }
 },
 "nbformat": 4,
 "nbformat_minor": 4
}
