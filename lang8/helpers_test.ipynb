{
 "cells": [
  {
   "cell_type": "code",
   "execution_count": 4,
   "metadata": {},
   "outputs": [
    {
     "ename": "ModuleNotFoundError",
     "evalue": "No module named 'helpers'",
     "output_type": "error",
     "traceback": [
      "\u001b[1;31m---------------------------------------------------------------------------\u001b[0m",
      "\u001b[1;31mModuleNotFoundError\u001b[0m                       Traceback (most recent call last)",
      "\u001b[1;32m<ipython-input-4-d3f8fa6e9647>\u001b[0m in \u001b[0;36m<module>\u001b[1;34m\u001b[0m\n\u001b[1;32m----> 1\u001b[1;33m \u001b[1;32mfrom\u001b[0m \u001b[0mhelpers\u001b[0m \u001b[1;32mimport\u001b[0m \u001b[0mhelpers\u001b[0m\u001b[1;33m\u001b[0m\u001b[1;33m\u001b[0m\u001b[0m\n\u001b[0m",
      "\u001b[1;31mModuleNotFoundError\u001b[0m: No module named 'helpers'"
     ]
    }
   ],
   "source": [
    "from helpers import helpers"
   ]
  },
  {
   "cell_type": "code",
   "execution_count": 13,
   "metadata": {},
   "outputs": [
    {
     "data": {
      "text/plain": [
       "{'ID': '213725',\n",
       " 'L points': '6,000',\n",
       " 'Location': 'Japan',\n",
       " 'Age': '36',\n",
       " 'Sex': 'Female'}"
      ]
     },
     "execution_count": 13,
     "metadata": {},
     "output_type": "execute_result"
    }
   ],
   "source": [
    "helpers.profile('213725')"
   ]
  },
  {
   "cell_type": "code",
   "execution_count": 14,
   "metadata": {},
   "outputs": [
    {
     "data": {
      "text/plain": [
       "['253534', '125710']"
      ]
     },
     "execution_count": 14,
     "metadata": {},
     "output_type": "execute_result"
    }
   ],
   "source": [
    "helpers.friends('213725')"
   ]
  },
  {
   "cell_type": "code",
   "execution_count": 15,
   "metadata": {},
   "outputs": [
    {
     "data": {
      "text/plain": [
       "['256361636188698521397028321337896574465',\n",
       " '66790772351198343205338104156873537443',\n",
       " '26925720514685372472697671054459123619',\n",
       " '15315532881855258548031902035305937411',\n",
       " '108212644102131691452826825631334775299',\n",
       " '73927908420361877026438805040786028451',\n",
       " '289379293448979329064073272001689926147',\n",
       " '289084686853797097687930179260295526915',\n",
       " '210279654542028363666303976103231207939',\n",
       " '86761333878304985293229014829319829411',\n",
       " '101458756511854233103985034296152268289',\n",
       " '203860010446665114081520125991571928995',\n",
       " '9824360292744538930648547903961544611',\n",
       " '272270008827710797554997709641524682241',\n",
       " '209622523639742916450468077609485580195',\n",
       " '144091741491648197908723994565252200355',\n",
       " '173820573133975343443703218802855229347',\n",
       " '175919122433102828503406040261378946979',\n",
       " '178987358365104073979568696564263925667',\n",
       " '128628740473966544949081283236456866956']"
      ]
     },
     "execution_count": 15,
     "metadata": {},
     "output_type": "execute_result"
    }
   ],
   "source": [
    "helpers.documents('213725')"
   ]
  },
  {
   "cell_type": "code",
   "execution_count": 16,
   "metadata": {},
   "outputs": [
    {
     "data": {
      "text/plain": [
       "{'I bought it, when we got my house built last month.': ['I bought it when we got my house built last month.'],\n",
       " 'It was one of my wish lists, as my hands got chapped from detergent.': ['It was an item on my wish list, as my hands got chapped from detergent.'],\n",
       " 'After using it, I realize that it is much more cleaner than washing by hands, and what’s more, I can reduce the time I spent doing washes.': ['After using it, I realize that it got the dishes much morecleaner than washing by hand and what’s more, I can reduce the time I spent doing washes.'],\n",
       " 'My mother told me that she doesn’t need to buy it, because at first, she likes to doing washes.': ['My mother told me that she doesn’t need to buy one, because, first of all, she likes to doing washes.',\n",
       "  'My mother told me that she doesn’t need to buy, because first, she likes to do the dishes.'],\n",
       " 'Second, it’s much faster if she does washes by herself.': ['Second, it’s much faster if she does the washing by herself.',\n",
       "  'Second, it’s much faster if she does the dishes by hand.'],\n",
       " 'I came across an article the other day and they say doing washes is of good importance to remove your stresses.': ['I came across an article the other day saying that dish washing is useful for removing your stresses.'],\n",
       " 'But for me, doing washes is just an unpleasant job to give me a lot of band-aid.': ['But for me, dish washing is just an unpleasant job to give me a lot of band-aid.**']}"
      ]
     },
     "execution_count": 16,
     "metadata": {},
     "output_type": "execute_result"
    }
   ],
   "source": [
    "helpers.par_sents('256361636188698521397028321337896574465')"
   ]
  },
  {
   "cell_type": "code",
   "execution_count": null,
   "metadata": {},
   "outputs": [],
   "source": []
  }
 ],
 "metadata": {
  "kernelspec": {
   "display_name": "Python 3",
   "language": "python",
   "name": "python3"
  },
  "language_info": {
   "codemirror_mode": {
    "name": "ipython",
    "version": 3
   },
   "file_extension": ".py",
   "mimetype": "text/x-python",
   "name": "python",
   "nbconvert_exporter": "python",
   "pygments_lexer": "ipython3",
   "version": "3.8.3"
  }
 },
 "nbformat": 4,
 "nbformat_minor": 4
}
