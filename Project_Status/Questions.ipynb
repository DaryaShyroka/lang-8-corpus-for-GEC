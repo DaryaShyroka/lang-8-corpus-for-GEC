{
 "cells": [
  {
   "cell_type": "markdown",
   "metadata": {},
   "source": [
    "**Suggestions** "
   ]
  },
  {
   "cell_type": "markdown",
   "metadata": {},
   "source": [
    "**General Questions**"
   ]
  },
  {
   "cell_type": "markdown",
   "metadata": {},
   "source": [
    "**Questions for JY**\n",
    "\n",
    "- Where do we store PoC results in the repository?\n",
    "- We lose one point if we are 12 hours late. What is the correspondoing percentage? (1 out of 100 or 1 out of 5 etc.)? "
   ]
  },
  {
   "cell_type": "markdown",
   "metadata": {},
   "source": [
    "**Questions for JY** March 1, 2021\n",
    "\n",
    "- Check our understanding of annotation process with JY: \n",
    "\n",
    "  We can get correct sentences and wrong sentences from the corpus. Do we still need annotations other than this? (using Mechanical Turk / getting external annotators)\n",
    "- Can we spend $50 USD on someone who is willing to do the annotation work for us? (instead of using Amazon Mechanical Turks)"
   ]
  },
  {
   "cell_type": "code",
   "execution_count": null,
   "metadata": {},
   "outputs": [],
   "source": []
  }
 ],
 "metadata": {
  "kernelspec": {
   "display_name": "Python 3",
   "language": "python",
   "name": "python3"
  },
  "language_info": {
   "codemirror_mode": {
    "name": "ipython",
    "version": 3
   },
   "file_extension": ".py",
   "mimetype": "text/x-python",
   "name": "python",
   "nbconvert_exporter": "python",
   "pygments_lexer": "ipython3",
   "version": "3.8.3"
  }
 },
 "nbformat": 4,
 "nbformat_minor": 4
}
