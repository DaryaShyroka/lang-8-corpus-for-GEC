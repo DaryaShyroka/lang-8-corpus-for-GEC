{
 "cells": [
  {
   "cell_type": "markdown",
   "metadata": {},
   "source": [
    "**Project Status** Feb 22, 2021 \n",
    "\n",
    "1. Darya to complete the first draft of the team contract\n",
    "2. Jeremy created Github\n",
    "3. Christina created Deepnote\n",
    "4. Ali created Wiki for the project\n",
    "5. Shared some ideas of the project: English grammar mistake corpus, Craigslist Job Posting corpus (with skillsets), Coronavirus News corpus\n",
    "6. Everyone to brainstorm on the potential project ideas"
   ]
  },
  {
   "cell_type": "markdown",
   "metadata": {},
   "source": [
    "**Questions asked**\n",
    "\n",
    "1. No need to use database to store corpus \n",
    "2. This project does not require machine learning component. (Either hand-annotations or improving upon annotations from pre-trained models)\n",
    "3. The general rule is that if a website is publicly accessible, it is likely to be legal to download anything on it for personal use. It may be illegal if you try to redistribute the data publicly, but for our limited use in this course, this won't be an issue."
   ]
  },
  {
   "cell_type": "markdown",
   "metadata": {},
   "source": [
    "**Feb 23, 2021**\n",
    "\n",
    "- met with Jungyeul. To meet with him again on Thursday / Friday 1:30 p.m. PST.\n",
    "\n",
    "\n",
    "1. Darya and Christina to be in charge of Project Proposal (Darya - lead)\n",
    "2. Jeremy and Ali to be in charge of POC (Jeremy - lead)\n",
    "3. Everyone to review the team contract and suggest for modification / improvement\n",
    "4. Everone to check out BEA website\n",
    "5. Everyone to meet and discuss what our (final) corpus will look like after looking at BEA website: meet again on Thursday. \n",
    "6. Everyone to add reference material to the github for tracking. "
   ]
  },
  {
   "cell_type": "markdown",
   "metadata": {},
   "source": [
    "**Feb 24, 2021**\n",
    "\n",
    "- had a team meeting to discuss 1, 2, 3, 4, 5 from Feb 23.\n",
    "\n",
    "1. Project proposal and team contract almost complete - Darya to finalize the documents.\n",
    "2. Jeremy and Christina installed the Errant and played with it. Jeremy explained to the team and uploaded relevant papers to the repository. \n",
    "3. Discussion about how to scrape enough data from the web - to investigate further.\n",
    "4. Jeremy to write the code and complete POC.\n",
    "5. Met with JY. \n",
    "\n",
    "**Questions asked and answered**\n",
    "\n",
    "1. Our understanding of the project is that a) we collect the original English sentences (written by ESL learners) and the correct English sentences and the corresponding grammar error tags (following ERRANT format) and put into one collection. Is this correct understanding of our contribution? (is classifying the error without providing additional corrections enough of a contribution?)\n",
    "2. How do we store the corpus? (JSON file? CSV file? text file? Do we put it on GitHub?)\n",
    "3. How can we ensure that we have enough data? (Lang-8 suspended - seems to provide a few hundred pages of corrections where each page contains 3 - 8 sentences.)\n",
    "\n",
    "**answers from JY** \n",
    "1. correct. \n",
    "2. txt \n",
    "3. Generally, 20K documents (with 20 sentences) for 1M words are required.  Can you download the current data? even if there are only a few hundreds, and show me how it looks like."
   ]
  },
  {
   "cell_type": "markdown",
   "metadata": {},
   "source": [
    "**Feb 27, 2021**\n",
    "\n",
    "1. Milestone 1 completed.\n",
    "2. Darya and Christina worked on Project proposal and Team Contract. Darya was the lead.\n",
    "3. Jeremy and Ali worked on PoC (writing code for scraping and tests). Jeremy was the lead."
   ]
  },
  {
   "cell_type": "markdown",
   "metadata": {},
   "source": [
    "**March 1, 2021**\n",
    "\n",
    "Milestone 2 is divided into five parts:\n",
    "\n",
    "1. Complete scraping - Jeremy + Ali\n",
    "2. Corpus + explanation - Jeremy + Ali\n",
    "3. Annotation Plan - Darya + Christina\n",
    "4. Annotation materials - Darya + Christina\n",
    "5. Corpus analysis (Optional) - to discuss on Thursday\n",
    "\n",
    "Jeremy and Ali's Part: \n",
    "\n",
    "1. Test multipage scraping\n",
    "2. Function documentation -> helper.ipynb\n",
    "3. Include multiple language learners(check journal language, only include docs which written in English) -> helper.ipynb\n",
    "4. Write code to remove duplicates(check with JY, word coverage 90%?)\n",
    "5. Synchronization for scraping parallel sents\n",
    "6. Count total number of words\n",
    "\n",
    "Questions for JY:\n",
    "1. Check our understanding of annotation process with JY.\n",
    "2. Can we spend $50 USD on someone who is willing to do the annotation work for us? (instead of using Amazon Mechanical Turks)\n"
   ]
  },
  {
   "cell_type": "markdown",
   "metadata": {},
   "source": [
    "**March 2, 2021**\n",
    "\n",
    "Mentor meeting Questions:\n",
    "    \n",
    "1. We plan to scrape both the original sentence (with grammatical errors) and the corrected sentence from the webpage. In this case, do we still need to get annotators? Which of the following options would you recommend?\n",
    "\n",
    "a) no need to get further annotations.\n",
    "    \n",
    "b) only annotate the sentences that do not have corrections.\n",
    "    \n",
    "c) Ignore corrected sentences from the webpage and get annotations from AMT.\n",
    "    \n",
    "d) Ignore corrected sentences from the webpage and get annotations from a hired helper.\n",
    "    \n",
    "e) Get corrected sentences from the webpage and have these corrections verified from workers in AMT.\n",
    "    \n",
    "f) Get corrected sentences from the webpage and have these corrections verified by a hired helper.\n",
    "    \n",
    "2. Can we use $50 USD to hire a helper (instead of spending it on AMT workers?)?\n",
    "3. Development question from Jeremy and Ali: how to remove duplicates.\n"
   ]
  },
  {
   "cell_type": "markdown",
   "metadata": {},
   "source": [
    "Mentor meeting Answers from JY:\n",
    "    \n",
    "1. I prefer b. \n",
    "2. I guess AMT is something you should do for this class. \n",
    "3. keep duplicates if their corrections are “different” otherwise discard all duplicates except for one example."
   ]
  },
  {
   "cell_type": "markdown",
   "metadata": {},
   "source": [
    "- The group decided to use AMT to verify the grammar corrections in the corrected sentences.\n",
    "- JY asked us to find out the number of sentences we scraped and the number of sentences that overlap with 2019 corpus."
   ]
  },
  {
   "cell_type": "markdown",
   "metadata": {},
   "source": [
    "**March 3, 2021**\n",
    "\n",
    "1. Attempted the GATE annotation work in 523 class. Jeremy submitted the work to Julian. \n",
    "2. Darya to work on documentation and Christina to work on AMT portion. "
   ]
  },
  {
   "cell_type": "code",
   "execution_count": null,
   "metadata": {},
   "outputs": [],
   "source": []
  }
 ],
 "metadata": {
  "kernelspec": {
   "display_name": "Python 3",
   "language": "python",
   "name": "python3"
  },
  "language_info": {
   "codemirror_mode": {
    "name": "ipython",
    "version": 3
   },
   "file_extension": ".py",
   "mimetype": "text/x-python",
   "name": "python",
   "nbconvert_exporter": "python",
   "pygments_lexer": "ipython3",
   "version": "3.8.3"
  }
 },
 "nbformat": 4,
 "nbformat_minor": 4
}
