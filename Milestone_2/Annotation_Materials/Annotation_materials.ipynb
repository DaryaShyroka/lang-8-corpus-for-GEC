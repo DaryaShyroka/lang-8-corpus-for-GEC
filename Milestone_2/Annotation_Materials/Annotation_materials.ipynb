{
 "cells": [
  {
   "cell_type": "markdown",
   "metadata": {},
   "source": [
    "**Annotation Guidelines**\n",
    "- Please see the copy of the Mechanical Turk Worker Sandbox page: view-source_https___requestersandbox.mturk.com_create_projects_114034_batches_311178_preview_number=11 in Milestone_2. \n",
    "\n",
    "- link: https://requestersandbox.mturk.com/create/projects/114034/batches/311178/preview?number=11\n",
    "\n",
    "**Small Data Exaple**\n",
    "- Please see the csv files in Milestone2/Annotation_materials directory.\n",
    "\n",
    "- ATM_used_for_pilot_study.csv: is the csv file uploaded for pilot study.\n",
    "- ATM_used_for_sandbox.csv: is the csv file uploaded for sandbox preview.\n",
    "- pilot_study_results.csv: is the csv file downloaded from AMT during the pilot study. \n",
    "\n",
    "**Link to the code**\n",
    "\n",
    "- Please see the file ATM_filewrite.ipynb in the Milestone2/Annotation_materials directory. "
   ]
  },
  {
   "cell_type": "code",
   "execution_count": null,
   "metadata": {},
   "outputs": [],
   "source": []
  }
 ],
 "metadata": {
  "kernelspec": {
   "display_name": "Python 3",
   "language": "python",
   "name": "python3"
  },
  "language_info": {
   "codemirror_mode": {
    "name": "ipython",
    "version": 3
   },
   "file_extension": ".py",
   "mimetype": "text/x-python",
   "name": "python",
   "nbconvert_exporter": "python",
   "pygments_lexer": "ipython3",
   "version": "3.8.3"
  }
 },
 "nbformat": 4,
 "nbformat_minor": 4
}
