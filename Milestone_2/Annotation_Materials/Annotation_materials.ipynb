{
 "cells": [
  {
   "cell_type": "markdown",
   "metadata": {},
   "source": [
    "**Annotation Guidelines**\n",
    "\n",
    "The annotation task is described as a part of Annotation Plan. (Please see the section **Annotation Type**.)\n",
    "We ask the annotators to indicate whether they agree or disagree with the grammatical corrections in the corrected sentence.\n",
    "\n",
    "- Guideline: \"Does the \"Corrected\" sentence correct all of the grammatical errors in the \"Original\" sentence? Please select \"Yes\" or \"No\" \".\n",
    "\n",
    "- Please see the copy of the Mechanical Turk sandbox page: view-source_https___requestersandbox.mturk.com_create_projects_114034_batches_311178_preview_number=11 in Milestone_2. \n",
    "\n",
    "- link: https://workersandbox.mturk.com/projects/3QOZH73NKQTZMTEL95DS8YZH6MBAQ9/tasks?ref=w_pl_prvw\n",
    "\n",
    "**Small Data Example**\n",
    "\n",
    "- Please see the csv files in Milestone2/Annotation_materials directory.\n",
    "\n",
    "- ATM_used_for_pilot_study.csv: is the csv file uploaded for pilot study.\n",
    "- ATM_used_for_sandbox.csv: is the csv file uploaded for sandbox preview.\n",
    "- pilot_study_results.csv: is the csv file downloaded from AMT during the pilot study. \n",
    "\n",
    "**Link to the code**\n",
    "\n",
    "- Please see the file ATM_filewrite.ipynb in src directory: https://github.ubc.ca/MDS-CL-2020-21/COLX523_Project_Group6/blob/master/src/ATM_filewrite.ipynb "
   ]
  },
  {
   "cell_type": "code",
   "execution_count": null,
   "metadata": {},
   "outputs": [],
   "source": []
  }
 ],
 "metadata": {
  "kernelspec": {
   "display_name": "Python 3",
   "language": "python",
   "name": "python3"
  },
  "language_info": {
   "codemirror_mode": {
    "name": "ipython",
    "version": 3
   },
   "file_extension": ".py",
   "mimetype": "text/x-python",
   "name": "python",
   "nbconvert_exporter": "python",
   "pygments_lexer": "ipython3",
   "version": "3.8.3"
  }
 },
 "nbformat": 4,
 "nbformat_minor": 4
}
