{
 "cells": [
  {
   "cell_type": "markdown",
   "metadata": {},
   "source": [
    "**Jungyeul's Recommended Website**\n",
    "\n",
    "BEA grammatical error correction. We can download and install it on our computer: https://github.com/chrisjbryant/errant"
   ]
  },
  {
   "cell_type": "markdown",
   "metadata": {},
   "source": [
    "Look at what they have done and learn what to do. "
   ]
  },
  {
   "cell_type": "markdown",
   "metadata": {},
   "source": [
    "https://www.cl.cam.ac.uk/research/nl/bea2019st/\n",
    "\n",
    "This is a paper (about the NUCLE corpus ) that describes error annotation schemes in Errant. \n",
    "https://www.aclweb.org/anthology/W13-1703.pdf"
   ]
  },
  {
   "cell_type": "markdown",
   "metadata": {},
   "source": [
    "https://drive.google.com/file/d/10Fr42q_atPoKRI0E2HyFZbieLWWrn6_R/view?usp=sharing\n",
    "\n",
    "\n",
    "(Jungyeul) It might be a good idea if you can also assign (or extract from the site if possible) language proficiency levels (CEFR: A1-C2) of your crawled text. See\n",
    "https://en.wikipedia.org/wiki/Common_European_Framework_of_Reference_for_Languages"
   ]
  },
  {
   "cell_type": "markdown",
   "metadata": {},
   "source": []
  }
 ],
 "metadata": {
  "kernelspec": {
   "display_name": "Python 3",
   "language": "python",
   "name": "python3"
  },
  "language_info": {
   "codemirror_mode": {
    "name": "ipython",
    "version": 3
   },
   "file_extension": ".py",
   "mimetype": "text/x-python",
   "name": "python",
   "nbconvert_exporter": "python",
   "pygments_lexer": "ipython3",
   "version": "3.8.3"
  }
 },
 "nbformat": 4,
 "nbformat_minor": 4
}
