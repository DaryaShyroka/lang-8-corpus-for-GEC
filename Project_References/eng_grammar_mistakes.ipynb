{
 "cells": [
  {
   "cell_type": "markdown",
   "metadata": {},
   "source": [
    "**Language Data sites**\n",
    "\n",
    "\n",
    "https://research.duolingo.com/\n",
    "\n",
    "https://www.fluentu.com/blog/language-learning-blogs/\n",
    "\n",
    "https://www.fluentlanguage.co.uk/blog/best-blogs-for-learning-any-language"
   ]
  },
  {
   "cell_type": "markdown",
   "metadata": {},
   "source": [
    "**Common English Grammar Mistakes**\n",
    "\n",
    "https://grammar.yourdictionary.com/grammar-rules-and-tips/5-most-common.html"
   ]
  },
  {
   "cell_type": "code",
   "execution_count": null,
   "metadata": {},
   "outputs": [],
   "source": []
  }
 ],
 "metadata": {
  "kernelspec": {
   "display_name": "Python 3",
   "language": "python",
   "name": "python3"
  },
  "language_info": {
   "codemirror_mode": {
    "name": "ipython",
    "version": 3
   },
   "file_extension": ".py",
   "mimetype": "text/x-python",
   "name": "python",
   "nbconvert_exporter": "python",
   "pygments_lexer": "ipython3",
   "version": "3.8.3"
  }
 },
 "nbformat": 4,
 "nbformat_minor": 4
}
